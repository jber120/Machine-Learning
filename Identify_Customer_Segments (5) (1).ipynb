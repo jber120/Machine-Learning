{
 "cells": [
  {
   "cell_type": "markdown",
   "metadata": {},
   "source": [
    "# Project: Identify Customer Segments\n",
    "\n",
    "In this project, you will apply unsupervised learning techniques to identify segments of the population that form the core customer base for a mail-order sales company in Germany. These segments can then be used to direct marketing campaigns towards audiences that will have the highest expected rate of returns. The data that you will use has been provided by our partners at Bertelsmann Arvato Analytics, and represents a real-life data science task.\n",
    "\n",
    "This notebook will help you complete this task by providing a framework within which you will perform your analysis steps. In each step of the project, you will see some text describing the subtask that you will perform, followed by one or more code cells for you to complete your work. **Feel free to add additional code and markdown cells as you go along so that you can explore everything in precise chunks.** The code cells provided in the base template will outline only the major tasks, and will usually not be enough to cover all of the minor tasks that comprise it.\n",
    "\n",
    "It should be noted that while there will be precise guidelines on how you should handle certain tasks in the project, there will also be places where an exact specification is not provided. **There will be times in the project where you will need to make and justify your own decisions on how to treat the data.** These are places where there may not be only one way to handle the data. In real-life tasks, there may be many valid ways to approach an analysis task. One of the most important things you can do is clearly document your approach so that other scientists can understand the decisions you've made.\n",
    "\n",
    "At the end of most sections, there will be a Markdown cell labeled **Discussion**. In these cells, you will report your findings for the completed section, as well as document the decisions that you made in your approach to each subtask. **Your project will be evaluated not just on the code used to complete the tasks outlined, but also your communication about your observations and conclusions at each stage.**"
   ]
  },
  {
   "cell_type": "code",
   "execution_count": 1,
   "metadata": {},
   "outputs": [],
   "source": [
    "#pip install --upgrade scikit-learn - May need to use the terminal to update this prior to using the workspace."
   ]
  },
  {
   "cell_type": "code",
   "execution_count": 2,
   "metadata": {},
   "outputs": [
    {
     "data": {
      "text/plain": [
       "'\\nImport note: The classroom currently uses sklearn version 0.19.\\nIf you need to use an imputer, it is available in sklearn.preprocessing.Imputer,\\ninstead of sklearn.impute as in newer versions of sklearn.\\n'"
      ]
     },
     "execution_count": 2,
     "metadata": {},
     "output_type": "execute_result"
    }
   ],
   "source": [
    "# import libraries here; add more as necessary\n",
    "import numpy as np\n",
    "import pandas as pd\n",
    "import matplotlib.pyplot as plt\n",
    "import seaborn as sns\n",
    "from sklearn.preprocessing.imputation import Imputer\n",
    "from sklearn.preprocessing import StandardScaler\n",
    "from sklearn.decomposition import PCA\n",
    "from sklearn.cluster import KMeans\n",
    "from sklearn.cluster import MiniBatchKMeans\n",
    "\n",
    "# magic word for producing visualizations in notebook\n",
    "%matplotlib inline\n",
    "\n",
    "'''\n",
    "Import note: The classroom currently uses sklearn version 0.19.\n",
    "If you need to use an imputer, it is available in sklearn.preprocessing.Imputer,\n",
    "instead of sklearn.impute as in newer versions of sklearn.\n",
    "'''"
   ]
  },
  {
   "cell_type": "markdown",
   "metadata": {},
   "source": [
    "### Step 0: Load the Data\n",
    "\n",
    "There are four files associated with this project (not including this one):\n",
    "\n",
    "- `Udacity_AZDIAS_Subset.csv`: Demographics data for the general population of Germany; 891211 persons (rows) x 85 features (columns).\n",
    "- `Udacity_CUSTOMERS_Subset.csv`: Demographics data for customers of a mail-order company; 191652 persons (rows) x 85 features (columns).\n",
    "- `Data_Dictionary.md`: Detailed information file about the features in the provided datasets.\n",
    "- `AZDIAS_Feature_Summary.csv`: Summary of feature attributes for demographics data; 85 features (rows) x 4 columns\n",
    "\n",
    "Each row of the demographics files represents a single person, but also includes information outside of individuals, including information about their household, building, and neighborhood. You will use this information to cluster the general population into groups with similar demographic properties. Then, you will see how the people in the customers dataset fit into those created clusters. The hope here is that certain clusters are over-represented in the customers data, as compared to the general population; those over-represented clusters will be assumed to be part of the core userbase. This information can then be used for further applications, such as targeting for a marketing campaign.\n",
    "\n",
    "To start off with, load in the demographics data for the general population into a pandas DataFrame, and do the same for the feature attributes summary. Note for all of the `.csv` data files in this project: they're semicolon (`;`) delimited, so you'll need an additional argument in your [`read_csv()`](https://pandas.pydata.org/pandas-docs/stable/generated/pandas.read_csv.html) call to read in the data properly. Also, considering the size of the main dataset, it may take some time for it to load completely.\n",
    "\n",
    "Once the dataset is loaded, it's recommended that you take a little bit of time just browsing the general structure of the dataset and feature summary file. You'll be getting deep into the innards of the cleaning in the first major step of the project, so gaining some general familiarity can help you get your bearings."
   ]
  },
  {
   "cell_type": "code",
   "execution_count": 3,
   "metadata": {},
   "outputs": [],
   "source": [
    "# Load in the general demographics data.\n",
    "azdias = pd.read_csv('Udacity_AZDIAS_Subset.csv', sep=';')\n",
    "\n",
    "# Load in the feature summary file.\n",
    "feat_info = pd.read_csv('AZDIAS_Feature_Summary.csv', sep=';')"
   ]
  },
  {
   "cell_type": "code",
   "execution_count": 4,
   "metadata": {},
   "outputs": [
    {
     "data": {
      "text/html": [
       "<div>\n",
       "<style scoped>\n",
       "    .dataframe tbody tr th:only-of-type {\n",
       "        vertical-align: middle;\n",
       "    }\n",
       "\n",
       "    .dataframe tbody tr th {\n",
       "        vertical-align: top;\n",
       "    }\n",
       "\n",
       "    .dataframe thead th {\n",
       "        text-align: right;\n",
       "    }\n",
       "</style>\n",
       "<table border=\"1\" class=\"dataframe\">\n",
       "  <thead>\n",
       "    <tr style=\"text-align: right;\">\n",
       "      <th></th>\n",
       "      <th>AGER_TYP</th>\n",
       "      <th>ALTERSKATEGORIE_GROB</th>\n",
       "      <th>ANREDE_KZ</th>\n",
       "      <th>CJT_GESAMTTYP</th>\n",
       "      <th>FINANZ_MINIMALIST</th>\n",
       "      <th>FINANZ_SPARER</th>\n",
       "      <th>FINANZ_VORSORGER</th>\n",
       "      <th>FINANZ_ANLEGER</th>\n",
       "      <th>FINANZ_UNAUFFAELLIGER</th>\n",
       "      <th>FINANZ_HAUSBAUER</th>\n",
       "      <th>...</th>\n",
       "      <th>PLZ8_ANTG1</th>\n",
       "      <th>PLZ8_ANTG2</th>\n",
       "      <th>PLZ8_ANTG3</th>\n",
       "      <th>PLZ8_ANTG4</th>\n",
       "      <th>PLZ8_BAUMAX</th>\n",
       "      <th>PLZ8_HHZ</th>\n",
       "      <th>PLZ8_GBZ</th>\n",
       "      <th>ARBEIT</th>\n",
       "      <th>ORTSGR_KLS9</th>\n",
       "      <th>RELAT_AB</th>\n",
       "    </tr>\n",
       "  </thead>\n",
       "  <tbody>\n",
       "    <tr>\n",
       "      <th>0</th>\n",
       "      <td>-1</td>\n",
       "      <td>2</td>\n",
       "      <td>1</td>\n",
       "      <td>2.0</td>\n",
       "      <td>3</td>\n",
       "      <td>4</td>\n",
       "      <td>3</td>\n",
       "      <td>5</td>\n",
       "      <td>5</td>\n",
       "      <td>3</td>\n",
       "      <td>...</td>\n",
       "      <td>NaN</td>\n",
       "      <td>NaN</td>\n",
       "      <td>NaN</td>\n",
       "      <td>NaN</td>\n",
       "      <td>NaN</td>\n",
       "      <td>NaN</td>\n",
       "      <td>NaN</td>\n",
       "      <td>NaN</td>\n",
       "      <td>NaN</td>\n",
       "      <td>NaN</td>\n",
       "    </tr>\n",
       "    <tr>\n",
       "      <th>1</th>\n",
       "      <td>-1</td>\n",
       "      <td>1</td>\n",
       "      <td>2</td>\n",
       "      <td>5.0</td>\n",
       "      <td>1</td>\n",
       "      <td>5</td>\n",
       "      <td>2</td>\n",
       "      <td>5</td>\n",
       "      <td>4</td>\n",
       "      <td>5</td>\n",
       "      <td>...</td>\n",
       "      <td>2.0</td>\n",
       "      <td>3.0</td>\n",
       "      <td>2.0</td>\n",
       "      <td>1.0</td>\n",
       "      <td>1.0</td>\n",
       "      <td>5.0</td>\n",
       "      <td>4.0</td>\n",
       "      <td>3.0</td>\n",
       "      <td>5.0</td>\n",
       "      <td>4.0</td>\n",
       "    </tr>\n",
       "    <tr>\n",
       "      <th>2</th>\n",
       "      <td>-1</td>\n",
       "      <td>3</td>\n",
       "      <td>2</td>\n",
       "      <td>3.0</td>\n",
       "      <td>1</td>\n",
       "      <td>4</td>\n",
       "      <td>1</td>\n",
       "      <td>2</td>\n",
       "      <td>3</td>\n",
       "      <td>5</td>\n",
       "      <td>...</td>\n",
       "      <td>3.0</td>\n",
       "      <td>3.0</td>\n",
       "      <td>1.0</td>\n",
       "      <td>0.0</td>\n",
       "      <td>1.0</td>\n",
       "      <td>4.0</td>\n",
       "      <td>4.0</td>\n",
       "      <td>3.0</td>\n",
       "      <td>5.0</td>\n",
       "      <td>2.0</td>\n",
       "    </tr>\n",
       "    <tr>\n",
       "      <th>3</th>\n",
       "      <td>2</td>\n",
       "      <td>4</td>\n",
       "      <td>2</td>\n",
       "      <td>2.0</td>\n",
       "      <td>4</td>\n",
       "      <td>2</td>\n",
       "      <td>5</td>\n",
       "      <td>2</td>\n",
       "      <td>1</td>\n",
       "      <td>2</td>\n",
       "      <td>...</td>\n",
       "      <td>2.0</td>\n",
       "      <td>2.0</td>\n",
       "      <td>2.0</td>\n",
       "      <td>0.0</td>\n",
       "      <td>1.0</td>\n",
       "      <td>3.0</td>\n",
       "      <td>4.0</td>\n",
       "      <td>2.0</td>\n",
       "      <td>3.0</td>\n",
       "      <td>3.0</td>\n",
       "    </tr>\n",
       "    <tr>\n",
       "      <th>4</th>\n",
       "      <td>-1</td>\n",
       "      <td>3</td>\n",
       "      <td>1</td>\n",
       "      <td>5.0</td>\n",
       "      <td>4</td>\n",
       "      <td>3</td>\n",
       "      <td>4</td>\n",
       "      <td>1</td>\n",
       "      <td>3</td>\n",
       "      <td>2</td>\n",
       "      <td>...</td>\n",
       "      <td>2.0</td>\n",
       "      <td>4.0</td>\n",
       "      <td>2.0</td>\n",
       "      <td>1.0</td>\n",
       "      <td>2.0</td>\n",
       "      <td>3.0</td>\n",
       "      <td>3.0</td>\n",
       "      <td>4.0</td>\n",
       "      <td>6.0</td>\n",
       "      <td>5.0</td>\n",
       "    </tr>\n",
       "  </tbody>\n",
       "</table>\n",
       "<p>5 rows × 85 columns</p>\n",
       "</div>"
      ],
      "text/plain": [
       "   AGER_TYP  ALTERSKATEGORIE_GROB  ANREDE_KZ  CJT_GESAMTTYP  \\\n",
       "0        -1                     2          1            2.0   \n",
       "1        -1                     1          2            5.0   \n",
       "2        -1                     3          2            3.0   \n",
       "3         2                     4          2            2.0   \n",
       "4        -1                     3          1            5.0   \n",
       "\n",
       "   FINANZ_MINIMALIST  FINANZ_SPARER  FINANZ_VORSORGER  FINANZ_ANLEGER  \\\n",
       "0                  3              4                 3               5   \n",
       "1                  1              5                 2               5   \n",
       "2                  1              4                 1               2   \n",
       "3                  4              2                 5               2   \n",
       "4                  4              3                 4               1   \n",
       "\n",
       "   FINANZ_UNAUFFAELLIGER  FINANZ_HAUSBAUER    ...     PLZ8_ANTG1  PLZ8_ANTG2  \\\n",
       "0                      5                 3    ...            NaN         NaN   \n",
       "1                      4                 5    ...            2.0         3.0   \n",
       "2                      3                 5    ...            3.0         3.0   \n",
       "3                      1                 2    ...            2.0         2.0   \n",
       "4                      3                 2    ...            2.0         4.0   \n",
       "\n",
       "   PLZ8_ANTG3  PLZ8_ANTG4  PLZ8_BAUMAX  PLZ8_HHZ  PLZ8_GBZ  ARBEIT  \\\n",
       "0         NaN         NaN          NaN       NaN       NaN     NaN   \n",
       "1         2.0         1.0          1.0       5.0       4.0     3.0   \n",
       "2         1.0         0.0          1.0       4.0       4.0     3.0   \n",
       "3         2.0         0.0          1.0       3.0       4.0     2.0   \n",
       "4         2.0         1.0          2.0       3.0       3.0     4.0   \n",
       "\n",
       "   ORTSGR_KLS9  RELAT_AB  \n",
       "0          NaN       NaN  \n",
       "1          5.0       4.0  \n",
       "2          5.0       2.0  \n",
       "3          3.0       3.0  \n",
       "4          6.0       5.0  \n",
       "\n",
       "[5 rows x 85 columns]"
      ]
     },
     "execution_count": 4,
     "metadata": {},
     "output_type": "execute_result"
    }
   ],
   "source": [
    "azdias.head(5)"
   ]
  },
  {
   "cell_type": "code",
   "execution_count": 5,
   "metadata": {},
   "outputs": [
    {
     "data": {
      "text/html": [
       "<div>\n",
       "<style scoped>\n",
       "    .dataframe tbody tr th:only-of-type {\n",
       "        vertical-align: middle;\n",
       "    }\n",
       "\n",
       "    .dataframe tbody tr th {\n",
       "        vertical-align: top;\n",
       "    }\n",
       "\n",
       "    .dataframe thead th {\n",
       "        text-align: right;\n",
       "    }\n",
       "</style>\n",
       "<table border=\"1\" class=\"dataframe\">\n",
       "  <thead>\n",
       "    <tr style=\"text-align: right;\">\n",
       "      <th></th>\n",
       "      <th>attribute</th>\n",
       "      <th>information_level</th>\n",
       "      <th>type</th>\n",
       "      <th>missing_or_unknown</th>\n",
       "    </tr>\n",
       "  </thead>\n",
       "  <tbody>\n",
       "    <tr>\n",
       "      <th>0</th>\n",
       "      <td>AGER_TYP</td>\n",
       "      <td>person</td>\n",
       "      <td>categorical</td>\n",
       "      <td>[-1,0]</td>\n",
       "    </tr>\n",
       "    <tr>\n",
       "      <th>1</th>\n",
       "      <td>ALTERSKATEGORIE_GROB</td>\n",
       "      <td>person</td>\n",
       "      <td>ordinal</td>\n",
       "      <td>[-1,0,9]</td>\n",
       "    </tr>\n",
       "    <tr>\n",
       "      <th>2</th>\n",
       "      <td>ANREDE_KZ</td>\n",
       "      <td>person</td>\n",
       "      <td>categorical</td>\n",
       "      <td>[-1,0]</td>\n",
       "    </tr>\n",
       "    <tr>\n",
       "      <th>3</th>\n",
       "      <td>CJT_GESAMTTYP</td>\n",
       "      <td>person</td>\n",
       "      <td>categorical</td>\n",
       "      <td>[0]</td>\n",
       "    </tr>\n",
       "    <tr>\n",
       "      <th>4</th>\n",
       "      <td>FINANZ_MINIMALIST</td>\n",
       "      <td>person</td>\n",
       "      <td>ordinal</td>\n",
       "      <td>[-1]</td>\n",
       "    </tr>\n",
       "  </tbody>\n",
       "</table>\n",
       "</div>"
      ],
      "text/plain": [
       "              attribute information_level         type missing_or_unknown\n",
       "0              AGER_TYP            person  categorical             [-1,0]\n",
       "1  ALTERSKATEGORIE_GROB            person      ordinal           [-1,0,9]\n",
       "2             ANREDE_KZ            person  categorical             [-1,0]\n",
       "3         CJT_GESAMTTYP            person  categorical                [0]\n",
       "4     FINANZ_MINIMALIST            person      ordinal               [-1]"
      ]
     },
     "execution_count": 5,
     "metadata": {},
     "output_type": "execute_result"
    }
   ],
   "source": [
    "# Check the structure of the data after it's loaded (e.g. print the number of\n",
    "# rows and columns, print the first few rows).\n",
    "feat_info.head(5)"
   ]
  },
  {
   "cell_type": "code",
   "execution_count": 6,
   "metadata": {},
   "outputs": [
    {
     "data": {
      "text/html": [
       "<div>\n",
       "<style scoped>\n",
       "    .dataframe tbody tr th:only-of-type {\n",
       "        vertical-align: middle;\n",
       "    }\n",
       "\n",
       "    .dataframe tbody tr th {\n",
       "        vertical-align: top;\n",
       "    }\n",
       "\n",
       "    .dataframe thead th {\n",
       "        text-align: right;\n",
       "    }\n",
       "</style>\n",
       "<table border=\"1\" class=\"dataframe\">\n",
       "  <thead>\n",
       "    <tr style=\"text-align: right;\">\n",
       "      <th></th>\n",
       "      <th>AGER_TYP</th>\n",
       "      <th>ALTERSKATEGORIE_GROB</th>\n",
       "      <th>ANREDE_KZ</th>\n",
       "      <th>CJT_GESAMTTYP</th>\n",
       "      <th>FINANZ_MINIMALIST</th>\n",
       "      <th>FINANZ_SPARER</th>\n",
       "      <th>FINANZ_VORSORGER</th>\n",
       "      <th>FINANZ_ANLEGER</th>\n",
       "      <th>FINANZ_UNAUFFAELLIGER</th>\n",
       "      <th>FINANZ_HAUSBAUER</th>\n",
       "      <th>...</th>\n",
       "      <th>PLZ8_ANTG1</th>\n",
       "      <th>PLZ8_ANTG2</th>\n",
       "      <th>PLZ8_ANTG3</th>\n",
       "      <th>PLZ8_ANTG4</th>\n",
       "      <th>PLZ8_BAUMAX</th>\n",
       "      <th>PLZ8_HHZ</th>\n",
       "      <th>PLZ8_GBZ</th>\n",
       "      <th>ARBEIT</th>\n",
       "      <th>ORTSGR_KLS9</th>\n",
       "      <th>RELAT_AB</th>\n",
       "    </tr>\n",
       "  </thead>\n",
       "  <tbody>\n",
       "    <tr>\n",
       "      <th>0</th>\n",
       "      <td>2</td>\n",
       "      <td>4</td>\n",
       "      <td>1</td>\n",
       "      <td>5.0</td>\n",
       "      <td>5</td>\n",
       "      <td>1</td>\n",
       "      <td>5</td>\n",
       "      <td>1</td>\n",
       "      <td>2</td>\n",
       "      <td>2</td>\n",
       "      <td>...</td>\n",
       "      <td>3.0</td>\n",
       "      <td>3.0</td>\n",
       "      <td>1.0</td>\n",
       "      <td>0.0</td>\n",
       "      <td>1.0</td>\n",
       "      <td>5.0</td>\n",
       "      <td>5.0</td>\n",
       "      <td>1.0</td>\n",
       "      <td>2.0</td>\n",
       "      <td>1.0</td>\n",
       "    </tr>\n",
       "    <tr>\n",
       "      <th>1</th>\n",
       "      <td>-1</td>\n",
       "      <td>4</td>\n",
       "      <td>1</td>\n",
       "      <td>NaN</td>\n",
       "      <td>5</td>\n",
       "      <td>1</td>\n",
       "      <td>5</td>\n",
       "      <td>1</td>\n",
       "      <td>3</td>\n",
       "      <td>2</td>\n",
       "      <td>...</td>\n",
       "      <td>NaN</td>\n",
       "      <td>NaN</td>\n",
       "      <td>NaN</td>\n",
       "      <td>NaN</td>\n",
       "      <td>NaN</td>\n",
       "      <td>NaN</td>\n",
       "      <td>NaN</td>\n",
       "      <td>NaN</td>\n",
       "      <td>NaN</td>\n",
       "      <td>NaN</td>\n",
       "    </tr>\n",
       "    <tr>\n",
       "      <th>2</th>\n",
       "      <td>-1</td>\n",
       "      <td>4</td>\n",
       "      <td>2</td>\n",
       "      <td>2.0</td>\n",
       "      <td>5</td>\n",
       "      <td>1</td>\n",
       "      <td>5</td>\n",
       "      <td>1</td>\n",
       "      <td>4</td>\n",
       "      <td>4</td>\n",
       "      <td>...</td>\n",
       "      <td>2.0</td>\n",
       "      <td>3.0</td>\n",
       "      <td>3.0</td>\n",
       "      <td>1.0</td>\n",
       "      <td>3.0</td>\n",
       "      <td>3.0</td>\n",
       "      <td>2.0</td>\n",
       "      <td>3.0</td>\n",
       "      <td>5.0</td>\n",
       "      <td>3.0</td>\n",
       "    </tr>\n",
       "  </tbody>\n",
       "</table>\n",
       "<p>3 rows × 85 columns</p>\n",
       "</div>"
      ],
      "text/plain": [
       "   AGER_TYP  ALTERSKATEGORIE_GROB  ANREDE_KZ  CJT_GESAMTTYP  \\\n",
       "0         2                     4          1            5.0   \n",
       "1        -1                     4          1            NaN   \n",
       "2        -1                     4          2            2.0   \n",
       "\n",
       "   FINANZ_MINIMALIST  FINANZ_SPARER  FINANZ_VORSORGER  FINANZ_ANLEGER  \\\n",
       "0                  5              1                 5               1   \n",
       "1                  5              1                 5               1   \n",
       "2                  5              1                 5               1   \n",
       "\n",
       "   FINANZ_UNAUFFAELLIGER  FINANZ_HAUSBAUER    ...     PLZ8_ANTG1  PLZ8_ANTG2  \\\n",
       "0                      2                 2    ...            3.0         3.0   \n",
       "1                      3                 2    ...            NaN         NaN   \n",
       "2                      4                 4    ...            2.0         3.0   \n",
       "\n",
       "   PLZ8_ANTG3  PLZ8_ANTG4  PLZ8_BAUMAX  PLZ8_HHZ  PLZ8_GBZ  ARBEIT  \\\n",
       "0         1.0         0.0          1.0       5.0       5.0     1.0   \n",
       "1         NaN         NaN          NaN       NaN       NaN     NaN   \n",
       "2         3.0         1.0          3.0       3.0       2.0     3.0   \n",
       "\n",
       "   ORTSGR_KLS9  RELAT_AB  \n",
       "0          2.0       1.0  \n",
       "1          NaN       NaN  \n",
       "2          5.0       3.0  \n",
       "\n",
       "[3 rows x 85 columns]"
      ]
     },
     "execution_count": 6,
     "metadata": {},
     "output_type": "execute_result"
    }
   ],
   "source": [
    "cust = pd.read_csv('Udacity_CUSTOMERS_Subset.csv', sep=';')\n",
    "cust.head(3)"
   ]
  },
  {
   "cell_type": "markdown",
   "metadata": {},
   "source": [
    "> **Tip**: Add additional cells to keep everything in reasonably-sized chunks! Keyboard shortcut `esc --> a` (press escape to enter command mode, then press the 'A' key) adds a new cell before the active cell, and `esc --> b` adds a new cell after the active cell. If you need to convert an active cell to a markdown cell, use `esc --> m` and to convert to a code cell, use `esc --> y`. \n",
    "\n",
    "## Step 1: Preprocessing\n",
    "\n",
    "### Step 1.1: Assess Missing Data\n",
    "\n",
    "The feature summary file contains a summary of properties for each demographics data column. You will use this file to help you make cleaning decisions during this stage of the project. First of all, you should assess the demographics data in terms of missing data. Pay attention to the following points as you perform your analysis, and take notes on what you observe. Make sure that you fill in the **Discussion** cell with your findings and decisions at the end of each step that has one!\n",
    "\n",
    "#### Step 1.1.1: Convert Missing Value Codes to NaNs\n",
    "The fourth column of the feature attributes summary (loaded in above as `feat_info`) documents the codes from the data dictionary that indicate missing or unknown data. While the file encodes this as a list (e.g. `[-1,0]`), this will get read in as a string object. You'll need to do a little bit of parsing to make use of it to identify and clean the data. Convert data that matches a 'missing' or 'unknown' value code into a numpy NaN value. You might want to see how much data takes on a 'missing' or 'unknown' code, and how much data is naturally missing, as a point of interest.\n",
    "\n",
    "**As one more reminder, you are encouraged to add additional cells to break up your analysis into manageable chunks.**"
   ]
  },
  {
   "cell_type": "code",
   "execution_count": 7,
   "metadata": {},
   "outputs": [],
   "source": [
    "# Identify missing or unknown data values and convert them to NaNs.\n",
    "missing_values = azdias.isnull().sum()\n",
    "azdias = azdias.fillna(value=np.nan)"
   ]
  },
  {
   "cell_type": "code",
   "execution_count": 8,
   "metadata": {},
   "outputs": [],
   "source": [
    "azdias = azdias.fillna(value=np.nan)"
   ]
  },
  {
   "cell_type": "markdown",
   "metadata": {},
   "source": [
    "#### Step 1.1.2: Assess Missing Data in Each Column\n",
    "\n",
    "How much missing data is present in each column? There are a few columns that are outliers in terms of the proportion of values that are missing. You will want to use matplotlib's [`hist()`](https://matplotlib.org/api/_as_gen/matplotlib.pyplot.hist.html) function to visualize the distribution of missing value counts to find these columns. Identify and document these columns. While some of these columns might have justifications for keeping or re-encoding the data, for this project you should just remove them from the dataframe. (Feel free to make remarks about these outlier columns in the discussion, however!)\n",
    "\n",
    "For the remaining features, are there any patterns in which columns have, or share, missing data?"
   ]
  },
  {
   "cell_type": "code",
   "execution_count": 9,
   "metadata": {
    "scrolled": true
   },
   "outputs": [
    {
     "name": "stdout",
     "output_type": "stream",
     "text": [
      "AGER_TYP                      0\n",
      "ALTERSKATEGORIE_GROB          0\n",
      "ANREDE_KZ                     0\n",
      "CJT_GESAMTTYP              4854\n",
      "FINANZ_MINIMALIST             0\n",
      "FINANZ_SPARER                 0\n",
      "FINANZ_VORSORGER              0\n",
      "FINANZ_ANLEGER                0\n",
      "FINANZ_UNAUFFAELLIGER         0\n",
      "FINANZ_HAUSBAUER              0\n",
      "FINANZTYP                     0\n",
      "GEBURTSJAHR                   0\n",
      "GFK_URLAUBERTYP            4854\n",
      "GREEN_AVANTGARDE              0\n",
      "HEALTH_TYP                    0\n",
      "LP_LEBENSPHASE_FEIN        4854\n",
      "LP_LEBENSPHASE_GROB        4854\n",
      "LP_FAMILIE_FEIN            4854\n",
      "LP_FAMILIE_GROB            4854\n",
      "LP_STATUS_FEIN             4854\n",
      "LP_STATUS_GROB             4854\n",
      "NATIONALITAET_KZ              0\n",
      "PRAEGENDE_JUGENDJAHRE         0\n",
      "RETOURTYP_BK_S             4854\n",
      "SEMIO_SOZ                     0\n",
      "SEMIO_FAM                     0\n",
      "SEMIO_REL                     0\n",
      "SEMIO_MAT                     0\n",
      "SEMIO_VERT                    0\n",
      "SEMIO_LUST                    0\n",
      "                          ...  \n",
      "OST_WEST_KZ               93148\n",
      "WOHNLAGE                  93148\n",
      "CAMEO_DEUG_2015           98979\n",
      "CAMEO_DEU_2015            98979\n",
      "CAMEO_INTL_2015           98979\n",
      "KBA05_ANTG1              133324\n",
      "KBA05_ANTG2              133324\n",
      "KBA05_ANTG3              133324\n",
      "KBA05_ANTG4              133324\n",
      "KBA05_BAUMAX             133324\n",
      "KBA05_GBZ                133324\n",
      "BALLRAUM                  93740\n",
      "EWDICHTE                  93740\n",
      "INNENSTADT                93740\n",
      "GEBAEUDETYP_RASTER        93155\n",
      "KKK                      121196\n",
      "MOBI_REGIO               133324\n",
      "ONLINE_AFFINITAET          4854\n",
      "REGIOTYP                 121196\n",
      "KBA13_ANZAHL_PKW         105800\n",
      "PLZ8_ANTG1               116515\n",
      "PLZ8_ANTG2               116515\n",
      "PLZ8_ANTG3               116515\n",
      "PLZ8_ANTG4               116515\n",
      "PLZ8_BAUMAX              116515\n",
      "PLZ8_HHZ                 116515\n",
      "PLZ8_GBZ                 116515\n",
      "ARBEIT                    97216\n",
      "ORTSGR_KLS9               97216\n",
      "RELAT_AB                  97216\n",
      "Length: 85, dtype: int64\n",
      "None\n"
     ]
    }
   ],
   "source": [
    "# Perform an assessment of how much missing data there is in each column of the dataset.\n",
    "def count_missing(data):\n",
    "    missing_values = data.isnull().sum()\n",
    "    print(missing_values)\n",
    "    \n",
    "missing_azdias = count_missing(azdias)\n",
    "print(missing_azdias)"
   ]
  },
  {
   "cell_type": "code",
   "execution_count": 10,
   "metadata": {},
   "outputs": [
    {
     "data": {
      "image/png": "[encoded data removed]",
      "text/plain": [
       "<matplotlib.figure.Figure at 0x7f17900e5dd8>"
      ]
     },
     "metadata": {
      "needs_background": "light"
     },
     "output_type": "display_data"
    }
   ],
   "source": [
    "# Investigate patterns in the amount of missing data in each column.\n",
    "plt.hist(missing_values, bins=50)\n",
    "plt.xlabel('Category')\n",
    "plt.ylabel('# Values Missing')\n",
    "plt.title('Histogram of missing values per column on General Population Dataset')\n",
    "plt.show()"
   ]
  },
  {
   "cell_type": "code",
   "execution_count": 11,
   "metadata": {},
   "outputs": [
    {
     "name": "stdout",
     "output_type": "stream",
     "text": [
      "Original General Population DataFrame shape: (891221, 85)\n",
      "Cleaned General Population DataFrame shape: (891221, 50)\n"
     ]
    }
   ],
   "source": [
    "# Remove the outlier columns from the dataset. (You'll perform other data\n",
    "# engineering tasks such as re-encoding and imputation later.)\n",
    "prct = ((missing_values/len(azdias))*100)\n",
    "outlier_columns = prct[prct > 10].index\n",
    "azdias_clean = azdias.drop(columns=outlier_columns)\n",
    "print(\"Original General Population DataFrame shape:\", azdias.shape)\n",
    "print(\"Cleaned General Population DataFrame shape:\", azdias_clean.shape)"
   ]
  },
  {
   "cell_type": "markdown",
   "metadata": {},
   "source": [
    "#### Discussion 1.1.2: Assess Missing Data in Each Column\n",
    "\n",
    "<span style = 'color:Blue'>\n",
    "Only one column is missing more than 15%+ of it's data, whereas 35 columns are missing 10%-15% of its data. I removed all columns missing ten or more percent of the data so that filling the values in don't skew available data when training the model. \n",
    "</span>"
   ]
  },
  {
   "cell_type": "markdown",
   "metadata": {},
   "source": [
    "#### Step 1.1.3: Assess Missing Data in Each Row\n",
    "\n",
    "Now, you'll perform a similar assessment for the rows of the dataset. How much data is missing in each row? As with the columns, you should see some groups of points that have a very different numbers of missing values. Divide the data into two subsets: one for data points that are above some threshold for missing values, and a second subset for points below that threshold.\n",
    "\n",
    "In order to know what to do with the outlier rows, we should see if the distribution of data values on columns that are not missing data (or are missing very little data) are similar or different between the two groups. Select at least five of these columns and compare the distribution of values.\n",
    "- You can use seaborn's [`countplot()`](https://seaborn.pydata.org/generated/seaborn.countplot.html) function to create a bar chart of code frequencies and matplotlib's [`subplot()`](https://matplotlib.org/api/_as_gen/matplotlib.pyplot.subplot.html) function to put bar charts for the two subplots side by side.\n",
    "- To reduce repeated code, you might want to write a function that can perform this comparison, taking as one of its arguments a column to be compared.\n",
    "\n",
    "Depending on what you observe in your comparison, this will have implications on how you approach your conclusions later in the analysis. If the distributions of non-missing features look similar between the data with many missing values and the data with few or no missing values, then we could argue that simply dropping those points from the analysis won't present a major issue. On the other hand, if the data with many missing values looks very different from the data with few or no missing values, then we should make a note on those data as special. We'll revisit these data later on. **Either way, you should continue your analysis for now using just the subset of the data with few or no missing values.**"
   ]
  },
  {
   "cell_type": "code",
   "execution_count": 12,
   "metadata": {},
   "outputs": [],
   "source": [
    "# How much data is missing in each row of the dataset?\n",
    "missing_values_row = azdias_clean.isnull().sum(axis=1) \n",
    "azdias_clean['missing_values_count_row'] = missing_values_row\n",
    "data_sorted_by_missing_values = azdias_clean.sort_values(by='missing_values_count_row', ascending = False)\n"
   ]
  },
  {
   "cell_type": "code",
   "execution_count": 13,
   "metadata": {},
   "outputs": [
    {
     "name": "stdout",
     "output_type": "stream",
     "text": [
      "Original General Population DataFrame shape: (891221, 51)\n",
      "Removed from General Population DataFrame shape: (96697, 51)\n",
      "Cleaned General Population DataFrame shape: (794524, 51)\n"
     ]
    }
   ],
   "source": [
    "subsets = azdias_clean.groupby('missing_values_count_row')\n",
    "subset1 = pd.concat([group for key, group in subsets if key != 0])\n",
    "subset2 = subsets.get_group(0)\n",
    "print(\"Original General Population DataFrame shape:\", azdias_clean.shape)\n",
    "print(\"Removed from General Population DataFrame shape:\", subset1.shape)\n",
    "print(\"Cleaned General Population DataFrame shape:\", subset2.shape)\n"
   ]
  },
  {
   "cell_type": "code",
   "execution_count": 14,
   "metadata": {},
   "outputs": [],
   "source": [
    "subset2 = pd.DataFrame(subset2)"
   ]
  },
  {
   "cell_type": "code",
   "execution_count": 15,
   "metadata": {},
   "outputs": [],
   "source": [
    "# Compare the distribution of values for at least five columns where there are\n",
    "# no or few missing values, between the two subsets.\n",
    "def plotting(column_name):\n",
    "\n",
    "    plt.figure(figsize=(15,10))\n",
    "\n",
    "    plt.subplot(1, 2, 1)\n",
    "    sns.countplot(x=column_name, data = subset1)\n",
    "    plt.title('Subset 1 Frequencies')\n",
    "\n",
    "    plt.subplot(1, 2, 2)\n",
    "    sns.countplot(x=column_name, data = subset2)\n",
    "    plt.title('Subset 2 Frequencies')\n",
    "\n",
    "    plt.show()"
   ]
  },
  {
   "cell_type": "code",
   "execution_count": 16,
   "metadata": {},
   "outputs": [
    {
     "data": {
      "image/png": "[encoded data removed]",
      "text/plain": [
       "<matplotlib.figure.Figure at 0x7f178fd9ca90>"
      ]
     },
     "metadata": {
      "needs_background": "light"
     },
     "output_type": "display_data"
    }
   ],
   "source": [
    "plotting('AGER_TYP')"
   ]
  },
  {
   "cell_type": "code",
   "execution_count": 17,
   "metadata": {},
   "outputs": [
    {
     "data": {
      "image/png": "[encoded data removed]",
      "text/plain": [
       "<matplotlib.figure.Figure at 0x7f178f456eb8>"
      ]
     },
     "metadata": {
      "needs_background": "light"
     },
     "output_type": "display_data"
    }
   ],
   "source": [
    "plotting('FINANZ_MINIMALIST')"
   ]
  },
  {
   "cell_type": "code",
   "execution_count": 18,
   "metadata": {},
   "outputs": [
    {
     "data": {
      "image/png": "[encoded data removed]",
      "text/plain": [
       "<matplotlib.figure.Figure at 0x7f179006f208>"
      ]
     },
     "metadata": {
      "needs_background": "light"
     },
     "output_type": "display_data"
    }
   ],
   "source": [
    "plotting('KONSUMNAEHE')"
   ]
  },
  {
   "cell_type": "code",
   "execution_count": 19,
   "metadata": {},
   "outputs": [
    {
     "data": {
      "image/png": "[encoded data removed]",
      "text/plain": [
       "<matplotlib.figure.Figure at 0x7f179006f588>"
      ]
     },
     "metadata": {
      "needs_background": "light"
     },
     "output_type": "display_data"
    }
   ],
   "source": [
    "plotting('ALTER_HH')"
   ]
  },
  {
   "cell_type": "code",
   "execution_count": 20,
   "metadata": {},
   "outputs": [
    {
     "data": {
      "image/png": "[encoded data removed]",
      "text/plain": [
       "<matplotlib.figure.Figure at 0x7f178ecc4390>"
      ]
     },
     "metadata": {
      "needs_background": "light"
     },
     "output_type": "display_data"
    }
   ],
   "source": [
    "plotting('FINANZ_HAUSBAUER')"
   ]
  },
  {
   "cell_type": "markdown",
   "metadata": {},
   "source": [
    "#### Discussion 1.1.3: Assess Missing Data in Each Row\n",
    "\n",
    "<span style = 'color:Blue'>\n",
    "I find the difference between subset2 and subset1's plots very interesting because separating rows with no missing values into a second subset presents a very different count of frequency for values in the five columns that I explored. For example, the scale for the column \"ANREDE_KZ\" changed drastically for the count of values between subset1 and subset2. The scaling difference was true for most of the five columns I explored, with subset2 having a larger scale. Other columns, such as \"FINANZ_HAUSBUER\" saw a shift in the freuqncy for the values, wich subset1 rows with a value of 3 showing a large frequency relative to other values, whereas the values in subset2 were more distributed.  \n",
    "</span>"
   ]
  },
  {
   "cell_type": "markdown",
   "metadata": {},
   "source": [
    "### Step 1.2: Select and Re-Encode Features\n",
    "\n",
    "Checking for missing data isn't the only way in which you can prepare a dataset for analysis. Since the unsupervised learning techniques to be used will only work on data that is encoded numerically, you need to make a few encoding changes or additional assumptions to be able to make progress. In addition, while almost all of the values in the dataset are encoded using numbers, not all of them represent numeric values. Check the third column of the feature summary (`feat_info`) for a summary of types of measurement.\n",
    "- For numeric and interval data, these features can be kept without changes.\n",
    "- Most of the variables in the dataset are ordinal in nature. While ordinal values may technically be non-linear in spacing, make the simplifying assumption that the ordinal variables can be treated as being interval in nature (that is, kept without any changes).\n",
    "- Special handling may be necessary for the remaining two variable types: categorical, and 'mixed'.\n",
    "\n",
    "In the first two parts of this sub-step, you will perform an investigation of the categorical and mixed-type features and make a decision on each of them, whether you will keep, drop, or re-encode each. Then, in the last part, you will create a new data frame with only the selected and engineered columns.\n",
    "\n",
    "Data wrangling is often the trickiest part of the data analysis process, and there's a lot of it to be done here. But stick with it: once you're done with this step, you'll be ready to get to the machine learning parts of the project!"
   ]
  },
  {
   "cell_type": "code",
   "execution_count": 21,
   "metadata": {},
   "outputs": [
    {
     "data": {
      "text/plain": [
       "ordinal        49\n",
       "categorical    21\n",
       "mixed           7\n",
       "numeric         7\n",
       "interval        1\n",
       "Name: type, dtype: int64"
      ]
     },
     "execution_count": 21,
     "metadata": {},
     "output_type": "execute_result"
    }
   ],
   "source": [
    "# How many features are there of each data type?\n",
    "feat_info['type'].value_counts()"
   ]
  },
  {
   "cell_type": "code",
   "execution_count": 22,
   "metadata": {},
   "outputs": [
    {
     "data": {
      "text/plain": [
       "AGER_TYP                      int64\n",
       "ALTERSKATEGORIE_GROB          int64\n",
       "ANREDE_KZ                     int64\n",
       "CJT_GESAMTTYP               float64\n",
       "FINANZ_MINIMALIST             int64\n",
       "FINANZ_SPARER                 int64\n",
       "FINANZ_VORSORGER              int64\n",
       "FINANZ_ANLEGER                int64\n",
       "FINANZ_UNAUFFAELLIGER         int64\n",
       "FINANZ_HAUSBAUER              int64\n",
       "FINANZTYP                     int64\n",
       "GEBURTSJAHR                   int64\n",
       "GFK_URLAUBERTYP             float64\n",
       "GREEN_AVANTGARDE              int64\n",
       "HEALTH_TYP                    int64\n",
       "LP_LEBENSPHASE_FEIN         float64\n",
       "LP_LEBENSPHASE_GROB         float64\n",
       "LP_FAMILIE_FEIN             float64\n",
       "LP_FAMILIE_GROB             float64\n",
       "LP_STATUS_FEIN              float64\n",
       "LP_STATUS_GROB              float64\n",
       "NATIONALITAET_KZ              int64\n",
       "PRAEGENDE_JUGENDJAHRE         int64\n",
       "RETOURTYP_BK_S              float64\n",
       "SEMIO_SOZ                     int64\n",
       "SEMIO_FAM                     int64\n",
       "SEMIO_REL                     int64\n",
       "SEMIO_MAT                     int64\n",
       "SEMIO_VERT                    int64\n",
       "SEMIO_LUST                    int64\n",
       "SEMIO_ERL                     int64\n",
       "SEMIO_KULT                    int64\n",
       "SEMIO_RAT                     int64\n",
       "SEMIO_KRIT                    int64\n",
       "SEMIO_DOM                     int64\n",
       "SEMIO_KAEM                    int64\n",
       "SEMIO_PFLICHT                 int64\n",
       "SEMIO_TRADV                   int64\n",
       "SHOPPER_TYP                   int64\n",
       "SOHO_KZ                     float64\n",
       "TITEL_KZ                    float64\n",
       "VERS_TYP                      int64\n",
       "ZABEOTYP                      int64\n",
       "ALTER_HH                    float64\n",
       "ANZ_PERSONEN                float64\n",
       "ANZ_TITEL                   float64\n",
       "HH_EINKOMMEN_SCORE          float64\n",
       "WOHNDAUER_2008              float64\n",
       "KONSUMNAEHE                 float64\n",
       "ONLINE_AFFINITAET           float64\n",
       "missing_values_count_row      int64\n",
       "dtype: object"
      ]
     },
     "execution_count": 22,
     "metadata": {},
     "output_type": "execute_result"
    }
   ],
   "source": [
    "subset2.dtypes"
   ]
  },
  {
   "cell_type": "markdown",
   "metadata": {},
   "source": [
    "#### Step 1.2.1: Re-Encode Categorical Features\n",
    "\n",
    "For categorical data, you would ordinarily need to encode the levels as dummy variables. Depending on the number of categories, perform one of the following:\n",
    "- For binary (two-level) categoricals that take numeric values, you can keep them without needing to do anything.\n",
    "- There is one binary variable that takes on non-numeric values. For this one, you need to re-encode the values as numbers or create a dummy variable.\n",
    "- For multi-level categoricals (three or more values), you can choose to encode the values using multiple dummy variables (e.g. via [OneHotEncoder](http://scikit-learn.org/stable/modules/generated/sklearn.preprocessing.OneHotEncoder.html)), or (to keep things straightforward) just drop them from the analysis. As always, document your choices in the Discussion section."
   ]
  },
  {
   "cell_type": "code",
   "execution_count": 23,
   "metadata": {
    "scrolled": false
   },
   "outputs": [
    {
     "name": "stdout",
     "output_type": "stream",
     "text": [
      "The categorical columns are:  ['AGER_TYP', 'ANREDE_KZ', 'CJT_GESAMTTYP', 'FINANZTYP', 'GFK_URLAUBERTYP', 'GREEN_AVANTGARDE', 'LP_FAMILIE_FEIN', 'LP_FAMILIE_GROB', 'LP_STATUS_FEIN', 'LP_STATUS_GROB', 'NATIONALITAET_KZ', 'SHOPPER_TYP', 'SOHO_KZ', 'TITEL_KZ', 'VERS_TYP', 'ZABEOTYP', 'KK_KUNDENTYP', 'GEBAEUDETYP', 'OST_WEST_KZ', 'CAMEO_DEUG_2015', 'CAMEO_DEU_2015']\n",
      "\n",
      "\n",
      "The mixed columns are:  ['LP_LEBENSPHASE_FEIN', 'LP_LEBENSPHASE_GROB', 'PRAEGENDE_JUGENDJAHRE', 'WOHNLAGE', 'CAMEO_INTL_2015', 'KBA05_BAUMAX', 'PLZ8_BAUMAX']\n"
     ]
    }
   ],
   "source": [
    "# Assess categorical variables: which are binary, which are multi-level, and\n",
    "# which one needs to be re-encoded?\n",
    "cat_columns = []\n",
    "mix_columns = []\n",
    "re_en_columns = []\n",
    "\n",
    "azdias_cols = subset2.columns\n",
    "\n",
    "for index, row in feat_info.iterrows():\n",
    "    if row['type'] == 'categorical':\n",
    "        cat_columns.append(row['attribute'])\n",
    "    elif row['type'] == 'mixed':\n",
    "        mix_columns.append(row['attribute'])\n",
    "        \n",
    "print('The categorical columns are: ',cat_columns)\n",
    "print('\\n')\n",
    "print('The mixed columns are: ', mix_columns)\n"
   ]
  },
  {
   "cell_type": "code",
   "execution_count": 24,
   "metadata": {},
   "outputs": [
    {
     "name": "stdout",
     "output_type": "stream",
     "text": [
      "Column 'KK_KUNDENTYP' does not exist in subset2.\n",
      "Column 'GEBAEUDETYP' does not exist in subset2.\n",
      "Column 'OST_WEST_KZ' does not exist in subset2.\n",
      "Column 'CAMEO_DEUG_2015' does not exist in subset2.\n",
      "Column 'CAMEO_DEU_2015' does not exist in subset2.\n",
      "Binary columns: ['ANREDE_KZ', 'GREEN_AVANTGARDE', 'SOHO_KZ']\n",
      "\n",
      "\n",
      "Multi-level columns: ['AGER_TYP', 'CJT_GESAMTTYP', 'FINANZTYP', 'GFK_URLAUBERTYP', 'LP_FAMILIE_FEIN', 'LP_FAMILIE_GROB', 'LP_STATUS_FEIN', 'LP_STATUS_GROB', 'NATIONALITAET_KZ', 'SHOPPER_TYP', 'TITEL_KZ', 'VERS_TYP', 'ZABEOTYP']\n"
     ]
    }
   ],
   "source": [
    "binary_columns = []\n",
    "multi_columns = []\n",
    "\n",
    "\n",
    "for column in cat_columns:\n",
    "    if column in subset2.columns:\n",
    "        unique_values = subset2[column].nunique()\n",
    "        if unique_values == 2:\n",
    "            binary_columns.append(column)\n",
    "        elif unique_values > 2:\n",
    "            multi_columns.append(column)\n",
    "    else:\n",
    "        print(f\"Column '{column}' does not exist in subset2.\")\n",
    "        \n",
    "print('Binary columns:', binary_columns)\n",
    "print('\\n')\n",
    "print('Multi-level columns:', multi_columns)"
   ]
  },
  {
   "cell_type": "code",
   "execution_count": 25,
   "metadata": {},
   "outputs": [],
   "source": [
    " for column in binary_columns:\n",
    "        if column in subset2.columns:\n",
    "            unique_values = subset2[column].nunique()\n",
    "            if unique_values == 2:\n",
    "                if not pd.api.types.is_numeric_dtype(subset2[column]):\n",
    "                    dummy_variable = pd.get_dummies(subset2[column], prefix=column, drop_first=True)\n",
    "                    subset2.drop(column, axis=1, inplace=True)\n",
    "                    subset2 = pd.concat([df, dummy_variable], axis=1)"
   ]
  },
  {
   "cell_type": "code",
   "execution_count": 26,
   "metadata": {},
   "outputs": [],
   "source": [
    " for column in multi_columns:\n",
    "        if column in subset2.columns:\n",
    "            unique_values = subset2[column].nunique()\n",
    "            if unique_values > 2:\n",
    "                if not pd.api.types.is_numeric_dtype(subset2[column]):\n",
    "                    dummy_variable = pd.get_dummies(subset2[column], prefix=column, drop_first=True)\n",
    "                    subset2.drop(column, axis=1, inplace=True)\n",
    "                    subset2 = pd.concat([df, dummy_variable], axis=1)"
   ]
  },
  {
   "cell_type": "markdown",
   "metadata": {},
   "source": [
    "#### Discussion 1.2.1: Re-Encode Categorical Features\n",
    "\n",
    "<span style = 'color:Blue'>\n",
    "Three binary columns exist, and any binary column that takes on non-numeric values has been addressd using a dummy variable using get_dummies. There are more multilevel variables present, with 14 columns, and these were also encoded using dummy variables to convert categorical variables to numeric values for processing.\n",
    "</span>\n"
   ]
  },
  {
   "cell_type": "markdown",
   "metadata": {},
   "source": [
    "#### Step 1.2.2: Engineer Mixed-Type Features\n",
    "\n",
    "There are a handful of features that are marked as \"mixed\" in the feature summary that require special treatment in order to be included in the analysis. There are two in particular that deserve attention; the handling of the rest are up to your own choices:\n",
    "- \"PRAEGENDE_JUGENDJAHRE\" combines information on three dimensions: generation by decade, movement (mainstream vs. avantgarde), and nation (east vs. west). While there aren't enough levels to disentangle east from west, you should create two new variables to capture the other two dimensions: an interval-type variable for decade, and a binary variable for movement.\n",
    "- \"CAMEO_INTL_2015\" combines information on two axes: wealth and life stage. Break up the two-digit codes by their 'tens'-place and 'ones'-place digits into two new ordinal variables (which, for the purposes of this project, is equivalent to just treating them as their raw numeric values).\n",
    "- If you decide to keep or engineer new features around the other mixed-type features, make sure you note your steps in the Discussion section.\n",
    "\n",
    "Be sure to check `Data_Dictionary.md` for the details needed to finish these tasks."
   ]
  },
  {
   "cell_type": "code",
   "execution_count": 27,
   "metadata": {},
   "outputs": [],
   "source": [
    "# Investigate \"PRAEGENDE_JUGENDJAHRE\" and engineer two new variables, one for generation and one for movement. Ordinal variable can be used for decade, and binary can be used for movement.\n",
    "def decade_map(x):\n",
    "    if x in [1, 2]:\n",
    "        return 40\n",
    "    elif x in [3, 4]:\n",
    "        return 60\n",
    "    elif x in [5, 6]:\n",
    "        return 80\n",
    "    elif x == 7:\n",
    "        return 2000\n",
    "    elif x == 8:\n",
    "        return 2010\n",
    "    else:\n",
    "        return np.nan\n",
    "\n",
    "subset2['decade'] = subset2['PRAEGENDE_JUGENDJAHRE'].apply(decade_map)"
   ]
  },
  {
   "cell_type": "code",
   "execution_count": 28,
   "metadata": {},
   "outputs": [
    {
     "data": {
      "text/plain": [
       "1    1.0\n",
       "2    0.0\n",
       "3    1.0\n",
       "4    1.0\n",
       "5    1.0\n",
       "Name: movement, dtype: float64"
      ]
     },
     "execution_count": 28,
     "metadata": {},
     "output_type": "execute_result"
    }
   ],
   "source": [
    "def movement_map(x):\n",
    "    if x in [1, 3, 5, 8, 10, 12, 14]:\n",
    "        return 1\n",
    "    elif x in [2, 4, 6, 7, 9, 11, 13, 15]:\n",
    "        return 0\n",
    "    else:\n",
    "        return np.nan\n",
    "\n",
    "subset2['movement'] = subset2['PRAEGENDE_JUGENDJAHRE'].apply(movement_map)\n",
    "subset2['movement'].head(5)"
   ]
  },
  {
   "cell_type": "markdown",
   "metadata": {},
   "source": [
    "#### Discussion 1.2.2: Engineer Mixed-Type Features\n",
    "\n",
    "<span style = 'color:Blue'>\n",
    "To deal with the mixed-type features I started by creating a function to set the generation to disect the data into the 40s, 60s, 80s, 2000s, and 2010s. This rough breakdown should help disaggregate different generational statuses. I used a binary approach to handle the 'movement' feature since there were only two values. \n",
    "    \n",
    "\"CAMEO_INTL_2015\" does not exist in subset2 after cleaning the data, so life and wealth stage in this column did not need to be engineered.\n",
    "</span>"
   ]
  },
  {
   "cell_type": "markdown",
   "metadata": {},
   "source": [
    "#### Step 1.2.3: Complete Feature Selection\n",
    "\n",
    "In order to finish this step up, you need to make sure that your data frame now only has the columns that you want to keep. To summarize, the dataframe should consist of the following:\n",
    "- All numeric, interval, and ordinal type columns from the original dataset.\n",
    "- Binary categorical features (all numerically-encoded).\n",
    "- Engineered features from other multi-level categorical features and mixed features.\n",
    "\n",
    "Make sure that for any new columns that you have engineered, that you've excluded the original columns from the final dataset. Otherwise, their values will interfere with the analysis later on the project. For example, you should not keep \"PRAEGENDE_JUGENDJAHRE\", since its values won't be useful for the algorithm: only the values derived from it in the engineered features you created should be retained. As a reminder, your data should only be from **the subset with few or no missing values**."
   ]
  },
  {
   "cell_type": "code",
   "execution_count": 29,
   "metadata": {},
   "outputs": [],
   "source": [
    "# If there are other re-engineering tasks you need to perform, make sure you\n",
    "# take care of them here. (Dealing with missing data will come in step 2.1.)\n",
    "\n",
    "#I don't think I have any additional tasks since I was able to use ordinal encoding and one-hot encoding on the categorical data types\n",
    "#to encode them. "
   ]
  },
  {
   "cell_type": "code",
   "execution_count": 30,
   "metadata": {},
   "outputs": [],
   "source": [
    "# Do whatever you need to in order to ensure that the dataframe only contains\n",
    "# the columns that should be passed to the algorithm functions.\n",
    "subset2.drop(columns='PRAEGENDE_JUGENDJAHRE', inplace=True)"
   ]
  },
  {
   "cell_type": "markdown",
   "metadata": {},
   "source": [
    "### Step 1.3: Create a Cleaning Function\n",
    "\n",
    "Even though you've finished cleaning up the general population demographics data, it's important to look ahead to the future and realize that you'll need to perform the same cleaning steps on the customer demographics data. In this substep, complete the function below to execute the main feature selection, encoding, and re-engineering steps you performed above. Then, when it comes to looking at the customer data in Step 3, you can just run this function on that DataFrame to get the trimmed dataset in a single step."
   ]
  },
  {
   "cell_type": "code",
   "execution_count": 31,
   "metadata": {},
   "outputs": [],
   "source": [
    "def clean_data(data, feat_info):\n",
    "    data_clean = data.copy()\n",
    "    missing_values_row = data_clean.isnull().sum(axis=1) \n",
    "    data_clean['missing_values_count_row'] = missing_values_row\n",
    "    #Create subsets of data\n",
    "    subsets = data_clean.groupby('missing_values_count_row')\n",
    "    data_1 = pd.concat([group for key, group in subsets if key != 0])\n",
    "    data_2 = subsets.get_group(0)\n",
    "#identify cat, mix, and re_encoded columns\n",
    "    cat_columns = []\n",
    "    mix_columns = []\n",
    "    re_en_columns = []\n",
    "    data_cols = data_2.columns\n",
    "    for index, row in feat_info.iterrows():\n",
    "        if row['type'] == 'categorical':\n",
    "            cat_columns.append(row['attribute'])\n",
    "        elif row['type'] == 'mixed':\n",
    "            mix_columns.append(row['attribute'])\n",
    "#Determine if binary or multi-level \n",
    "    binary_columns = []\n",
    "    multi_columns = []\n",
    "    for column in cat_columns:\n",
    "        if column in data_2.columns:\n",
    "            unique_values = data_2[column].nunique()\n",
    "            if unique_values == 2:\n",
    "                binary_columns.append(column)\n",
    "            elif unique_values > 2:\n",
    "                multi_columns.append(column)\n",
    "#Encoding binary in need of encoding and multi-level \n",
    "    for column in binary_columns:\n",
    "        if column in data_2.columns:\n",
    "            unique_values = data_2[column].nunique()\n",
    "            if unique_values == 2:\n",
    "                if not pd.api.types.is_numeric_dtype(data_2[column]):\n",
    "                    dummy_variable = pd.get_dummies(data_2[column], prefix=column, drop_first=True)\n",
    "                    #data_2.drop(column, axis=1, inplace=True)\n",
    "                    data_2 = pd.concat([data_2, dummy_variable], axis=1)\n",
    "    for column in multi_columns:\n",
    "        if column in data_2.columns:\n",
    "            unique_values = data_2[column].nunique()\n",
    "            if unique_values > 2:\n",
    "                if not pd.api.types.is_numeric_dtype(data_2[column]):\n",
    "                    dummy_variable = pd.get_dummies(data_2[column], prefix=column, drop_first=True)\n",
    "                    data_2.drop(column, axis=1, inplace=True)\n",
    "                    data_2 = pd.concat([data_2, dummy_variable], axis=1)\n",
    "# Deal with \"PRAEGENDE_JUGENDJAHRE\" \n",
    "    data_2['decade'] = data_2['PRAEGENDE_JUGENDJAHRE'].apply(decade_map)\n",
    "    data_2['movement'] = data_2['PRAEGENDE_JUGENDJAHRE'].apply(movement_map)\n",
    "    columns=('PRAEGENDE_JUGENDJAHRE')\n",
    "    if 'PRAEGENDE_JUGENDJAHRE' in data_2.columns:\n",
    "        data_2.drop('PRAEGENDE_JUGENDJAHRE', axis=1, inplace=True)\n",
    "    data_2.replace('XX', np.nan, inplace=True)  \n",
    "    data_2.replace('X', np.nan, inplace=True)  \n",
    "    data_2.replace('W', np.nan, inplace=True)  \n",
    "    data_2.replace('O', np.nan, inplace=True)  \n",
    "    #Make sure the columns are consistent\n",
    "    data_2_columns = data_2.columns.tolist()\n",
    "    missing_columns = [col for col in subset2_scaled.columns if col not in data_2_columns]\n",
    "    for col in missing_columns:\n",
    "        data_2[col] = 0  # Add missing columns and set values to 0 (or any other appropriate default value)\n",
    "    # Reorder the columns in data_2 to match the column order in subset2_scaled\n",
    "    data_2 = data_2[subset2_scaled.columns]\n",
    "#Impute?\n",
    "    imputer = Imputer(strategy='mean')\n",
    "    imputer.fit(data_2)\n",
    "    data_2 = pd.DataFrame(imputer.transform(data_2), columns=data_2.columns)\n",
    "    return data_2"
   ]
  },
  {
   "cell_type": "markdown",
   "metadata": {},
   "source": [
    "## Step 2: Feature Transformation\n",
    "\n",
    "### Step 2.1: Apply Feature Scaling\n",
    "\n",
    "Before we apply dimensionality reduction techniques to the data, we need to perform feature scaling so that the principal component vectors are not influenced by the natural differences in scale for features. Starting from this part of the project, you'll want to keep an eye on the [API reference page for sklearn](http://scikit-learn.org/stable/modules/classes.html) to help you navigate to all of the classes and functions that you'll need. In this substep, you'll need to check the following:\n",
    "\n",
    "- sklearn requires that data not have missing values in order for its estimators to work properly. So, before applying the scaler to your data, make sure that you've cleaned the DataFrame of the remaining missing values. This can be as simple as just removing all data points with missing data, or applying an [Imputer](https://scikit-learn.org/0.16/modules/generated/sklearn.preprocessing.Imputer.html) to replace all missing values. You might also try a more complicated procedure where you temporarily remove missing values in order to compute the scaling parameters before re-introducing those missing values and applying imputation. Think about how much missing data you have and what possible effects each approach might have on your analysis, and justify your decision in the discussion section below.\n",
    "- For the actual scaling function, a [StandardScaler](http://scikit-learn.org/stable/modules/generated/sklearn.preprocessing.StandardScaler.html) instance is suggested, scaling each feature to mean 0 and standard deviation 1.\n",
    "- For these classes, you can make use of the `.fit_transform()` method to both fit a procedure to the data as well as apply the transformation to the data at the same time. Don't forget to keep the fit sklearn objects handy, since you'll be applying them to the customer demographics data towards the end of the project."
   ]
  },
  {
   "cell_type": "code",
   "execution_count": 32,
   "metadata": {},
   "outputs": [],
   "source": [
    "# If you've not yet cleaned the dataset of all NaN values, then investigate and\n",
    "# do that now.\n",
    "imputer = Imputer(strategy='mean')\n",
    "imputer.fit(subset2)\n",
    "\n",
    "subset2 = pd.DataFrame(imputer.transform(subset2), columns=subset2.columns)"
   ]
  },
  {
   "cell_type": "code",
   "execution_count": 33,
   "metadata": {},
   "outputs": [],
   "source": [
    "# Apply feature scaling to the general population demographics data.\n",
    "scaler = StandardScaler()\n",
    "\n",
    "scaler.fit(subset2)\n",
    "subset2_scaled = pd.DataFrame(scaler.transform(subset2), columns=subset2.columns)\n",
    "subset2 = subset2_scaled.copy()"
   ]
  },
  {
   "cell_type": "markdown",
   "metadata": {},
   "source": [
    "### Discussion 2.1: Apply Feature Scaling\n",
    "Source: https://analyticsindiamag.com/why-data-scaling-is-important-in-machine-learning-how-to-effectively-do-it/#:~:text=So%20if%20the%20data%20in,between%20them%20will%20be%20lower.\n",
    "\n",
    "<span style = 'color:Blue'>\n",
    "I used an imputer to replace all NaN with the mean of the dataset in order to be able to scale. I opted to not drop the values because I want to see what develops with the imputer. If I am unhappy or think that the analysis may be off I will go back and adjust by removing the rows with missing values.\n",
    "    \n",
    "Once the imputer replaced all NaNs, I used a standard scaler to resize the ditribution of values so that the mean of observed values is 0 and the standard deviation is 1. This will help by centering around the mean of all data in the feature.\n",
    "</span>"
   ]
  },
  {
   "cell_type": "markdown",
   "metadata": {},
   "source": [
    "### Step 2.2: Perform Dimensionality Reduction\n",
    "\n",
    "On your scaled data, you are now ready to apply dimensionality reduction techniques.\n",
    "\n",
    "- Use sklearn's [PCA](http://scikit-learn.org/stable/modules/generated/sklearn.decomposition.PCA.html) class to apply principal component analysis on the data, thus finding the vectors of maximal variance in the data. To start, you should not set any parameters (so all components are computed) or set a number of components that is at least half the number of features (so there's enough features to see the general trend in variability).\n",
    "- Check out the ratio of variance explained by each principal component as well as the cumulative variance explained. Try plotting the cumulative or sequential values using matplotlib's [`plot()`](https://matplotlib.org/api/_as_gen/matplotlib.pyplot.plot.html) function. Based on what you find, select a value for the number of transformed features you'll retain for the clustering part of the project.\n",
    "- Once you've made a choice for the number of components to keep, make sure you re-fit a PCA instance to perform the decided-on transformation."
   ]
  },
  {
   "cell_type": "code",
   "execution_count": 34,
   "metadata": {},
   "outputs": [],
   "source": [
    "# Apply PCA to the data.\n",
    "def do_pca(n_components, data, column_names):\n",
    "    pca = PCA(n_components)\n",
    "    data_pca = pca.fit_transform(data)\n",
    "    data_pca_df = pd.DataFrame(data_pca, columns=[f\"PC{i+1}\" for i in range(n_components)])\n",
    "    data_pca_df.columns = column_names[:n_components]\n",
    "    return pca, data_pca_df"
   ]
  },
  {
   "cell_type": "code",
   "execution_count": 35,
   "metadata": {},
   "outputs": [],
   "source": [
    "pca, data_pca_df = do_pca(30,subset2, subset2.columns)"
   ]
  },
  {
   "cell_type": "code",
   "execution_count": 36,
   "metadata": {},
   "outputs": [
    {
     "data": {
      "image/png": "[encoded data removed]",
      "text/plain": [
       "<matplotlib.figure.Figure at 0x7f178eca29b0>"
      ]
     },
     "metadata": {
      "needs_background": "light"
     },
     "output_type": "display_data"
    }
   ],
   "source": [
    "# Investigate the variance accounted for by each principal component.\n",
    "explained_var_ratio = pca.explained_variance_ratio_\n",
    "cumulative_var_ratio = np.cumsum(explained_var_ratio)\n",
    "\n",
    "plt.bar(range(0, len(explained_var_ratio)), explained_var_ratio, alpha=0.5, align='center', label='Individual explained variance')\n",
    "plt.step(range(0, len(cumulative_var_ratio)), cumulative_var_ratio, where='mid', label='Cumulative explained variance')\n",
    "plt.ylabel('Explained variance ratio')\n",
    "plt.xlabel('Principal component index')\n",
    "plt.xticks(range(0, len(explained_var_ratio)), data_pca_df.columns, rotation=90)\n",
    "plt.legend(loc='best')\n",
    "plt.tight_layout()\n",
    "plt.show()"
   ]
  },
  {
   "cell_type": "code",
   "execution_count": 37,
   "metadata": {},
   "outputs": [
    {
     "data": {
      "image/png": "[encoded data removed]",
      "text/plain": [
       "<matplotlib.figure.Figure at 0x7f178e92fb70>"
      ]
     },
     "metadata": {
      "needs_background": "light"
     },
     "output_type": "display_data"
    }
   ],
   "source": [
    "# Re-apply PCA to the data while selecting for number of components to retain.\n",
    "pca, data_pca_df = do_pca(35,subset2, subset2.columns)\n",
    "\n",
    "\n",
    "explained_var_ratio = pca.explained_variance_ratio_\n",
    "\n",
    "cumulative_var_ratio = np.cumsum(explained_var_ratio)\n",
    "\n",
    "plt.bar(range(0,len(explained_var_ratio)), explained_var_ratio, alpha=0.5, align='center', label='Individual explained variance')\n",
    "plt.step(range(0,len(cumulative_var_ratio)), cumulative_var_ratio, where='mid',label='Cumulative explained variance')\n",
    "plt.ylabel('Explained variance ratio')\n",
    "plt.xlabel('Principal component index')\n",
    "plt.xticks(range(0, len(explained_var_ratio)), data_pca_df.columns, rotation=90)\n",
    "plt.legend(loc='best')\n",
    "plt.tight_layout()\n",
    "\n",
    "\n",
    "plt.show()"
   ]
  },
  {
   "cell_type": "markdown",
   "metadata": {},
   "source": [
    "### Discussion 2.2: Perform Dimensionality Reduction\n",
    "\n",
    "I am using 35 features for the next steps of the analysis because it captures almost all of the variance in the data, which has over 80 columns. This will retain a large portion of the information while still reducing the size of the dataset."
   ]
  },
  {
   "cell_type": "markdown",
   "metadata": {},
   "source": [
    "### Step 2.3: Interpret Principal Components\n",
    "\n",
    "Now that we have our transformed principal components, it's a nice idea to check out the weight of each variable on the first few components to see if they can be interpreted in some fashion.\n",
    "\n",
    "As a reminder, each principal component is a unit vector that points in the direction of highest variance (after accounting for the variance captured by earlier principal components). The further a weight is from zero, the more the principal component is in the direction of the corresponding feature. If two features have large weights of the same sign (both positive or both negative), then increases in one tend expect to be associated with increases in the other. To contrast, features with different signs can be expected to show a negative correlation: increases in one variable should result in a decrease in the other.\n",
    "\n",
    "- To investigate the features, you should map each weight to their corresponding feature name, then sort the features according to weight. The most interesting features for each principal component, then, will be those at the beginning and end of the sorted list. Use the data dictionary document to help you understand these most prominent features, their relationships, and what a positive or negative value on the principal component might indicate.\n",
    "- You should investigate and interpret feature associations from the first three principal components in this substep. To help facilitate this, you should write a function that you can call at any time to print the sorted list of feature weights, for the *i*-th principal component. This might come in handy in the next step of the project, when you interpret the tendencies of the discovered clusters."
   ]
  },
  {
   "cell_type": "code",
   "execution_count": 38,
   "metadata": {},
   "outputs": [],
   "source": [
    "# Map weights for the first principal component to corresponding feature names\n",
    "# and then print the linked values, sorted by weight.\n",
    "# HINT: Try defining a function here or in a new cell that you can reuse in the\n",
    "# other cells.\n",
    "def print_pca_weights(pca, x,feat_num):\n",
    "    x = pd.DataFrame(x)\n",
    "    weights = pca.components_[feat_num]\n",
    "    feature_weights = {}\n",
    "    for i in range(len(weights)):\n",
    "        feature_weights[x.columns[i]]  = weights[i]\n",
    "    sorted_weights = sorted(feature_weights.items(), key=lambda x: x[1], reverse=True)\n",
    "    for feature, weight in sorted_weights:\n",
    "            print(\"{} {}\".format(feature,weight))\n",
    "\n",
    "def plot_pca_weights(pca, x, feat_num):\n",
    "    x = pd.DataFrame(x)\n",
    "    weights = pca.components_[feat_num]\n",
    "    feature_weights = {}\n",
    "    for i in range(len(weights)):\n",
    "        feature_weights[x.columns[i]]  = weights[i]\n",
    "    sorted_weights = sorted(feature_weights.items(), key=lambda x: x[1], reverse=True)\n",
    "    features, weights = zip(*sorted_weights)\n",
    "    plt.bar(features, weights)\n",
    "    plt.xticks(rotation=90)\n",
    "    plt.show()"
   ]
  },
  {
   "cell_type": "code",
   "execution_count": 39,
   "metadata": {},
   "outputs": [
    {
     "name": "stdout",
     "output_type": "stream",
     "text": [
      "ALTERSKATEGORIE_GROB 0.25656386935948206\n",
      "FINANZ_VORSORGER 0.25155147778648806\n",
      "FINANZ_MINIMALIST 0.22251144743014803\n",
      "SEMIO_ERL 0.20424230194736234\n",
      "SEMIO_LUST 0.18277768451507406\n",
      "AGER_TYP 0.1705502246285706\n",
      "LP_STATUS_GROB 0.15569827861012372\n",
      "LP_STATUS_FEIN 0.13918762194820292\n",
      "RETOURTYP_BK_S 0.1389015796273045\n",
      "FINANZTYP 0.13785341323624828\n",
      "LP_LEBENSPHASE_FEIN 0.10397477144573955\n",
      "WOHNDAUER_2008 0.09441847455695035\n",
      "GREEN_AVANTGARDE 0.08987309314145593\n",
      "SHOPPER_TYP 0.08956636585709735\n",
      "LP_LEBENSPHASE_GROB 0.08851878018412372\n",
      "SEMIO_KRIT 0.05507704606631232\n",
      "KONSUMNAEHE 0.051632817371833284\n",
      "ANZ_PERSONEN 0.04075544086617574\n",
      "LP_FAMILIE_GROB 0.03815960934698886\n",
      "LP_FAMILIE_FEIN 0.03782468441223155\n",
      "VERS_TYP 0.036867201097103654\n",
      "SEMIO_KAEM 0.03396814895219727\n",
      "ANREDE_KZ 0.031175263272209167\n",
      "SEMIO_DOM 0.01663960360019351\n",
      "ANZ_TITEL 0.011780354875705008\n",
      "TITEL_KZ 0.009715394773967373\n",
      "SEMIO_VERT 0.006779397681672731\n",
      "SOHO_KZ 0.000621786330787311\n",
      "missing_values_count_row 0.0\n",
      "GEBURTSJAHR -0.012091272433368081\n",
      "HEALTH_TYP -0.01693994982251378\n",
      "FINANZ_HAUSBAUER -0.04164724027499327\n",
      "ALTER_HH -0.04203750731675508\n",
      "NATIONALITAET_KZ -0.062008327966370756\n",
      "ONLINE_AFFINITAET -0.07412916543760195\n",
      "GFK_URLAUBERTYP -0.07670674970146281\n",
      "SEMIO_SOZ -0.07898384304314478\n",
      "decade -0.08062558690724385\n",
      "movement -0.08862998524085267\n",
      "HH_EINKOMMEN_SCORE -0.11415458862672655\n",
      "ZABEOTYP -0.12154893590570076\n",
      "CJT_GESAMTTYP -0.12287234210365425\n",
      "SEMIO_FAM -0.16797993671726366\n",
      "SEMIO_MAT -0.16821856682737513\n",
      "SEMIO_KULT -0.18878702684507515\n",
      "SEMIO_RAT -0.20267022520267702\n",
      "FINANZ_ANLEGER -0.21730893629699022\n",
      "FINANZ_UNAUFFAELLIGER -0.2258941000668598\n",
      "SEMIO_TRADV -0.23228862297102904\n",
      "SEMIO_PFLICHT -0.25064789220357947\n",
      "SEMIO_REL -0.2587782976650076\n",
      "FINANZ_SPARER -0.281828896147843\n"
     ]
    },
    {
     "data": {
      "image/png": "[encoded data removed]",
      "text/plain": [
       "<matplotlib.figure.Figure at 0x7f178e9fb400>"
      ]
     },
     "metadata": {
      "needs_background": "light"
     },
     "output_type": "display_data"
    }
   ],
   "source": [
    "print_pca_weights(pca, subset2,0)\n",
    "plot_pca_weights(pca, subset2,0)"
   ]
  },
  {
   "cell_type": "code",
   "execution_count": 40,
   "metadata": {},
   "outputs": [
    {
     "name": "stdout",
     "output_type": "stream",
     "text": [
      "SEMIO_VERT 0.23800031596493915\n",
      "LP_LEBENSPHASE_FEIN 0.23309305276481712\n",
      "LP_LEBENSPHASE_GROB 0.2278068383703231\n",
      "LP_FAMILIE_GROB 0.20852645107470583\n",
      "LP_STATUS_GROB 0.20814847155420496\n",
      "LP_STATUS_FEIN 0.20754722821997765\n",
      "LP_FAMILIE_FEIN 0.2064230206857995\n",
      "SEMIO_KULT 0.2054477145937038\n",
      "ANZ_PERSONEN 0.19513637196875652\n",
      "FINANZ_MINIMALIST 0.18963064751797737\n",
      "SEMIO_FAM 0.1826570423733375\n",
      "SEMIO_SOZ 0.17263578170757718\n",
      "ONLINE_AFFINITAET 0.1676459875023928\n",
      "GREEN_AVANTGARDE 0.15694568756076782\n",
      "SEMIO_REL 0.11497137658391904\n",
      "ALTER_HH 0.10329998815016209\n",
      "KONSUMNAEHE 0.09311658556031523\n",
      "SEMIO_MAT 0.07432186049213707\n",
      "GEBURTSJAHR 0.06270392624803378\n",
      "SEMIO_TRADV 0.050244711197482084\n",
      "FINANZTYP 0.04922964808130468\n",
      "CJT_GESAMTTYP 0.04639830781524443\n",
      "WOHNDAUER_2008 0.04116712869702672\n",
      "HEALTH_TYP 0.04032861184665828\n",
      "FINANZ_UNAUFFAELLIGER 0.038287609555691195\n",
      "SEMIO_PFLICHT 0.03008862993288915\n",
      "VERS_TYP 0.02553812741878209\n",
      "NATIONALITAET_KZ 0.019237873923598395\n",
      "ANZ_TITEL 0.012241383253861255\n",
      "TITEL_KZ 0.006731680306632573\n",
      "SOHO_KZ 0.0043317387870038665\n",
      "missing_values_count_row -0.0\n",
      "FINANZ_SPARER -0.0007787133084409688\n",
      "decade -0.0033322328094111116\n",
      "AGER_TYP -0.008718464606273818\n",
      "FINANZ_VORSORGER -0.026021477500434823\n",
      "FINANZ_ANLEGER -0.027201178548061318\n",
      "SEMIO_LUST -0.03808859358805662\n",
      "RETOURTYP_BK_S -0.039456386246804837\n",
      "GFK_URLAUBERTYP -0.04064016416875441\n",
      "ALTERSKATEGORIE_GROB -0.052680535586900445\n",
      "SEMIO_RAT -0.05597676591887141\n",
      "SHOPPER_TYP -0.06758004472586583\n",
      "ZABEOTYP -0.13675835423031182\n",
      "movement -0.15146519655639692\n",
      "SEMIO_ERL -0.18180644647646887\n",
      "SEMIO_DOM -0.19470913831650372\n",
      "HH_EINKOMMEN_SCORE -0.19869924627097546\n",
      "FINANZ_HAUSBAUER -0.2132228447785203\n",
      "SEMIO_KRIT -0.22134576182143612\n",
      "ANREDE_KZ -0.23756421713348236\n",
      "SEMIO_KAEM -0.23835067922863842\n"
     ]
    },
    {
     "data": {
      "image/png": "[encoded data removed]",
      "text/plain": [
       "<matplotlib.figure.Figure at 0x7f178e9fb940>"
      ]
     },
     "metadata": {
      "needs_background": "light"
     },
     "output_type": "display_data"
    }
   ],
   "source": [
    "# Map weights for the second principal component to corresponding feature names\n",
    "# and then print the linked values, sorted by weight.\n",
    "print_pca_weights(pca, subset2,1)\n",
    "plot_pca_weights(pca, subset2,1)"
   ]
  },
  {
   "cell_type": "code",
   "execution_count": 41,
   "metadata": {},
   "outputs": [
    {
     "name": "stdout",
     "output_type": "stream",
     "text": [
      "ANREDE_KZ 0.28841106730993826\n",
      "SEMIO_KAEM 0.2619891276996367\n",
      "SEMIO_DOM 0.25747163386802907\n",
      "LP_FAMILIE_GROB 0.2404748369977259\n",
      "LP_FAMILIE_FEIN 0.23614580723470988\n",
      "LP_LEBENSPHASE_GROB 0.22949599752952246\n",
      "LP_LEBENSPHASE_FEIN 0.22693033948394525\n",
      "ANZ_PERSONEN 0.20766328939220785\n",
      "ONLINE_AFFINITAET 0.19541864278482599\n",
      "SEMIO_RAT 0.19187421177022862\n",
      "SEMIO_KRIT 0.18153487883029276\n",
      "FINANZ_ANLEGER 0.16136076028193036\n",
      "ALTER_HH 0.12373014474261604\n",
      "SEMIO_ERL 0.12071235152025117\n",
      "LP_STATUS_FEIN 0.11488890288309704\n",
      "FINANZ_UNAUFFAELLIGER 0.11100460424142114\n",
      "LP_STATUS_GROB 0.10297508950245216\n",
      "SEMIO_TRADV 0.0926354248106575\n",
      "SHOPPER_TYP 0.08843192691692556\n",
      "FINANZ_SPARER 0.08831941416496188\n",
      "GREEN_AVANTGARDE 0.08472688249360927\n",
      "GEBURTSJAHR 0.08446074838608486\n",
      "CJT_GESAMTTYP 0.0764821583678964\n",
      "KONSUMNAEHE 0.07598424636958194\n",
      "SEMIO_PFLICHT 0.07477911953377436\n",
      "decade 0.03415163407720246\n",
      "NATIONALITAET_KZ 0.016804408853438837\n",
      "WOHNDAUER_2008 0.014133562039511804\n",
      "HEALTH_TYP 0.013802807647757601\n",
      "SOHO_KZ 0.0033326557257238507\n",
      "ANZ_TITEL 0.003011305307622526\n",
      "missing_values_count_row -0.0\n",
      "TITEL_KZ -0.005767115128984045\n",
      "GFK_URLAUBERTYP -0.010717802400467968\n",
      "VERS_TYP -0.013057273104781369\n",
      "ZABEOTYP -0.03524113379870927\n",
      "FINANZ_MINIMALIST -0.04151685690033863\n",
      "SEMIO_MAT -0.04272763259452763\n",
      "SEMIO_REL -0.049222653408258855\n",
      "SEMIO_LUST -0.06843646831613752\n",
      "AGER_TYP -0.07149268476908352\n",
      "movement -0.08247477044211468\n",
      "FINANZ_HAUSBAUER -0.08248066555592415\n",
      "FINANZTYP -0.08489578515349494\n",
      "ALTERSKATEGORIE_GROB -0.08616743697186885\n",
      "FINANZ_VORSORGER -0.10149656518956486\n",
      "HH_EINKOMMEN_SCORE -0.12280928720291837\n",
      "RETOURTYP_BK_S -0.13467499990378773\n",
      "SEMIO_KULT -0.1733651046121482\n",
      "SEMIO_SOZ -0.2005582498465778\n",
      "SEMIO_FAM -0.20249240947129568\n",
      "SEMIO_VERT -0.2510928023273947\n"
     ]
    },
    {
     "data": {
      "image/png": "[encoded data removed]",
      "text/plain": [
       "<matplotlib.figure.Figure at 0x7f178e9fbe10>"
      ]
     },
     "metadata": {
      "needs_background": "light"
     },
     "output_type": "display_data"
    }
   ],
   "source": [
    "# Map weights for the third principal component to corresponding feature names\n",
    "# and then print the linked values, sorted by weight.\n",
    "print_pca_weights(pca, subset2,2)\n",
    "plot_pca_weights(pca, subset2,2)\n"
   ]
  },
  {
   "cell_type": "markdown",
   "metadata": {},
   "source": [
    "### Discussion 2.3: Interpret Principal Components\n",
    "\n",
    "Positive and negative values for the top three components demonstrate that there is a large weight attributed to personality typology in each of the principal components, and some of these typologies have a positive weight while others have a negative. Life stage, family type, social status, financial typology, and gender also carry weight in these principal components. This information is based on analyzing the weights with absolute values of .2."
   ]
  },
  {
   "cell_type": "markdown",
   "metadata": {},
   "source": [
    "## Step 3: Clustering\n",
    "\n",
    "### Step 3.1: Apply Clustering to General Population\n",
    "\n",
    "You've assessed and cleaned the demographics data, then scaled and transformed them. Now, it's time to see how the data clusters in the principal components space. In this substep, you will apply k-means clustering to the dataset and use the average within-cluster distances from each point to their assigned cluster's centroid to decide on a number of clusters to keep.\n",
    "\n",
    "- Use sklearn's [KMeans](http://scikit-learn.org/stable/modules/generated/sklearn.cluster.KMeans.html#sklearn.cluster.KMeans) class to perform k-means clustering on the PCA-transformed data.\n",
    "- Then, compute the average difference from each point to its assigned cluster's center. **Hint**: The KMeans object's `.score()` method might be useful here, but note that in sklearn, scores tend to be defined so that larger is better. Try applying it to a small, toy dataset, or use an internet search to help your understanding.\n",
    "- Perform the above two steps for a number of different cluster counts. You can then see how the average distance decreases with an increasing number of clusters. However, each additional cluster provides a smaller net benefit. Use this fact to select a final number of clusters in which to group the data. **Warning**: because of the large size of the dataset, it can take a long time for the algorithm to resolve. The more clusters to fit, the longer the algorithm will take. You should test for cluster counts through at least 10 clusters to get the full picture, but you shouldn't need to test for a number of clusters above about 30.\n",
    "- Once you've selected a final number of clusters to use, re-fit a KMeans instance to perform the clustering operation. Make sure that you also obtain the cluster assignments for the general demographics data, since you'll be using them in the final Step 3.3."
   ]
  },
  {
   "cell_type": "code",
   "execution_count": 42,
   "metadata": {},
   "outputs": [
    {
     "data": {
      "image/png": "[encoded data removed]",
      "text/plain": [
       "<matplotlib.figure.Figure at 0x7f179a3862e8>"
      ]
     },
     "metadata": {
      "needs_background": "light"
     },
     "output_type": "display_data"
    },
    {
     "name": "stdout",
     "output_type": "stream",
     "text": [
      "Clusters are:         cluster_label\n",
      "0                   2\n",
      "1                   2\n",
      "2                   0\n",
      "3                   1\n",
      "4                   2\n",
      "5                   2\n",
      "6                   1\n",
      "7                   0\n",
      "8                   2\n",
      "9                   0\n",
      "10                  1\n",
      "11                  2\n",
      "12                  0\n",
      "13                  2\n",
      "14                  2\n",
      "15                  0\n",
      "16                  2\n",
      "17                  1\n",
      "18                  1\n",
      "19                  1\n",
      "20                  1\n",
      "21                  1\n",
      "22                  1\n",
      "23                  1\n",
      "24                  0\n",
      "25                  2\n",
      "26                  1\n",
      "27                  2\n",
      "28                  0\n",
      "29                  0\n",
      "...               ...\n",
      "794494              0\n",
      "794495              2\n",
      "794496              0\n",
      "794497              1\n",
      "794498              0\n",
      "794499              2\n",
      "794500              0\n",
      "794501              1\n",
      "794502              1\n",
      "794503              2\n",
      "794504              1\n",
      "794505              2\n",
      "794506              0\n",
      "794507              1\n",
      "794508              0\n",
      "794509              2\n",
      "794510              0\n",
      "794511              0\n",
      "794512              2\n",
      "794513              1\n",
      "794514              1\n",
      "794515              0\n",
      "794516              0\n",
      "794517              2\n",
      "794518              2\n",
      "794519              2\n",
      "794520              1\n",
      "794521              2\n",
      "794522              1\n",
      "794523              1\n",
      "\n",
      "[794524 rows x 1 columns]\n",
      "Within-culster average distance is 31290391.5804\n"
     ]
    }
   ],
   "source": [
    "#My original elbow plot was taking too long to process, so I decided to look for alternatives. I found mini-batch k-means, and decided to give it a try.\n",
    "#https://www.geeksforgeeks.org/ml-mini-batch-k-means-clustering-algorithm/#\n",
    "def kmeans_apply(num_clust_min, num_clust_max, data, batch_size=50):\n",
    "    score_plt_values = []\n",
    "    for k in range(num_clust_min, num_clust_max):\n",
    "        kmeans = MiniBatchKMeans(n_clusters=k, batch_size=batch_size)\n",
    "        kmeans.fit(data)\n",
    "        score = abs(kmeans.score(data))\n",
    "        score_plt_values.append(score)\n",
    "    plt.plot(range(num_clust_min, num_clust_max), score_plt_values, 'o-', color='blue')\n",
    "    plt.xlabel(\"Number of Clusters\")\n",
    "    plt.ylabel(\"Score\")\n",
    "    plt.title(\"Elbow Plot to Identify Number of Clusters\")\n",
    "    plt.show()\n",
    "\n",
    "# Over a number of different cluster counts... 8 is the best, see the discussion.\n",
    "kmeans_apply(1, 10, data_pca_df)\n",
    "\n",
    "# run k-means clustering on the data and...\n",
    "kmeans = MiniBatchKMeans(n_clusters=3, batch_size=50)\n",
    "kmeans.fit(data_pca_df)   \n",
    "clusters = pd.DataFrame(kmeans.predict(data_pca_df), columns=['cluster_label'])\n",
    "print(\"Clusters are:\", clusters)\n",
    "    \n",
    "# compute the average within-cluster distances.\n",
    "score = abs(kmeans.score(data_pca_df))\n",
    "print(\"Within-culster average distance is\", score)"
   ]
  },
  {
   "cell_type": "markdown",
   "metadata": {},
   "source": [
    "### Discussion 3.1: Apply Clustering to General Population\n",
    "\n",
    "After running the function to determine the best number of clusters, 3 was determine the be the best fit, as values after 8 saw a smaller slope, meanming that there were less gains."
   ]
  },
  {
   "cell_type": "markdown",
   "metadata": {},
   "source": [
    "### Step 3.2: Apply All Steps to the Customer Data\n",
    "\n",
    "Now that you have clusters and cluster centers for the general population, it's time to see how the customer data maps on to those clusters. Take care to not confuse this for re-fitting all of the models to the customer data. Instead, you're going to use the fits from the general population to clean, transform, and cluster the customer data. In the last step of the project, you will interpret how the general population fits apply to the customer data.\n",
    "\n",
    "- Don't forget when loading in the customers data, that it is semicolon (`;`) delimited.\n",
    "- Apply the same feature wrangling, selection, and engineering steps to the customer demographics using the `clean_data()` function you created earlier. (You can assume that the customer demographics data has similar meaning behind missing data patterns as the general demographics data.)\n",
    "- Use the sklearn objects from the general demographics data, and apply their transformations to the customers data. That is, you should not be using a `.fit()` or `.fit_transform()` method to re-fit the old objects, nor should you be creating new sklearn objects! Carry the data through the feature scaling, PCA, and clustering steps, obtaining cluster assignments for all of the data in the customer demographics data."
   ]
  },
  {
   "cell_type": "code",
   "execution_count": 43,
   "metadata": {},
   "outputs": [],
   "source": [
    "# Load in the customer demographics data.\n",
    "cust = pd.read_csv('Udacity_CUSTOMERS_Subset.csv', sep=';')\n",
    "if 'PRAEGENDE_JUGENDJAHRE' in cust.columns:\n",
    "    cust2 = cust[['PRAEGENDE_JUGENDJAHRE']]\n",
    "    # Rest of your code\n",
    "else:\n",
    "    print(\"Column 'PRAEGENDE_JUGENDJAHRE' not found in the DataFrame.\")"
   ]
  },
  {
   "cell_type": "code",
   "execution_count": 44,
   "metadata": {},
   "outputs": [],
   "source": [
    "# Apply preprocessing, feature transformation, and clustering from the general\n",
    "# demographics onto the customer data, obtaining cluster predictions for the\n",
    "# customer demographics data.\n",
    "cust2 = clean_data(cust, feat_info)\n",
    "\n",
    "# Apply feature scaling to the general population demographics data.\n",
    "cust2_subset = cust2[subset2_scaled.columns]\n",
    "cust2_scaled = pd.DataFrame(scaler.transform(cust2_subset), columns=subset2_scaled.columns)"
   ]
  },
  {
   "cell_type": "code",
   "execution_count": 45,
   "metadata": {},
   "outputs": [
    {
     "name": "stdout",
     "output_type": "stream",
     "text": [
      "       cluster_label\n",
      "0                  1\n",
      "1                  2\n",
      "2                  2\n",
      "3                  2\n",
      "4                  2\n",
      "5                  1\n",
      "6                  2\n",
      "7                  2\n",
      "8                  2\n",
      "9                  2\n",
      "10                 1\n",
      "11                 1\n",
      "12                 2\n",
      "13                 2\n",
      "14                 2\n",
      "15                 1\n",
      "16                 2\n",
      "17                 2\n",
      "18                 2\n",
      "19                 1\n",
      "20                 2\n",
      "21                 1\n",
      "22                 2\n",
      "23                 2\n",
      "24                 1\n",
      "25                 2\n",
      "26                 1\n",
      "27                 2\n",
      "28                 2\n",
      "29                 2\n",
      "...              ...\n",
      "69376              2\n",
      "69377              2\n",
      "69378              2\n",
      "69379              2\n",
      "69380              2\n",
      "69381              2\n",
      "69382              2\n",
      "69383              2\n",
      "69384              1\n",
      "69385              2\n",
      "69386              1\n",
      "69387              1\n",
      "69388              2\n",
      "69389              2\n",
      "69390              1\n",
      "69391              2\n",
      "69392              2\n",
      "69393              1\n",
      "69394              1\n",
      "69395              2\n",
      "69396              2\n",
      "69397              1\n",
      "69398              2\n",
      "69399              2\n",
      "69400              2\n",
      "69401              2\n",
      "69402              2\n",
      "69403              1\n",
      "69404              1\n",
      "69405              2\n",
      "\n",
      "[69406 rows x 1 columns]\n"
     ]
    }
   ],
   "source": [
    "cust2_pca = pca.transform(cust2)\n",
    "cust_clusters = pd.DataFrame(kmeans.predict(cust2_pca),columns=['cluster_label'])\n",
    "print(cust_clusters)"
   ]
  },
  {
   "cell_type": "markdown",
   "metadata": {},
   "source": [
    "### Step 3.3: Compare Customer Data to Demographics Data\n",
    "\n",
    "At this point, you have clustered data based on demographics of the general population of Germany, and seen how the customer data for a mail-order sales company maps onto those demographic clusters. In this final substep, you will compare the two cluster distributions to see where the strongest customer base for the company is.\n",
    "\n",
    "Consider the proportion of persons in each cluster for the general population, and the proportions for the customers. If we think the company's customer base to be universal, then the cluster assignment proportions should be fairly similar between the two. If there are only particular segments of the population that are interested in the company's products, then we should see a mismatch from one to the other. If there is a higher proportion of persons in a cluster for the customer data compared to the general population (e.g. 5% of persons are assigned to a cluster for the general population, but 15% of the customer data is closest to that cluster's centroid) then that suggests the people in that cluster to be a target audience for the company. On the other hand, the proportion of the data in a cluster being larger in the general population than the customer data (e.g. only 2% of customers closest to a population centroid that captures 6% of the data) suggests that group of persons to be outside of the target demographics.\n",
    "\n",
    "Take a look at the following points in this step:\n",
    "\n",
    "- Compute the proportion of data points in each cluster for the general population and the customer data. Visualizations will be useful here: both for the individual dataset proportions, but also to visualize the ratios in cluster representation between groups. Seaborn's [`countplot()`](https://seaborn.pydata.org/generated/seaborn.countplot.html) or [`barplot()`](https://seaborn.pydata.org/generated/seaborn.barplot.html) function could be handy.\n",
    "  - Recall the analysis you performed in step 1.1.3 of the project, where you separated out certain data points from the dataset if they had more than a specified threshold of missing values. If you found that this group was qualitatively different from the main bulk of the data, you should treat this as an additional data cluster in this analysis. Make sure that you account for the number of data points in this subset, for both the general population and customer datasets, when making your computations!\n",
    "- Which cluster or clusters are overrepresented in the customer dataset compared to the general population? Select at least one such cluster and infer what kind of people might be represented by that cluster. Use the principal component interpretations from step 2.3 or look at additional components to help you make this inference. Alternatively, you can use the `.inverse_transform()` method of the PCA and StandardScaler objects to transform centroids back to the original data space and interpret the retrieved values directly.\n",
    "- Perform a similar investigation for the underrepresented clusters. Which cluster or clusters are underrepresented in the customer dataset compared to the general population, and what kinds of people are typified by these clusters?"
   ]
  },
  {
   "cell_type": "code",
   "execution_count": 46,
   "metadata": {},
   "outputs": [
    {
     "data": {
      "image/png": "[encoded data removed]",
      "text/plain": [
       "<matplotlib.figure.Figure at 0x7f178fda1400>"
      ]
     },
     "metadata": {
      "needs_background": "light"
     },
     "output_type": "display_data"
    },
    {
     "data": {
      "image/png": "[encoded data removed]",
      "text/plain": [
       "<matplotlib.figure.Figure at 0x7f1796498470>"
      ]
     },
     "metadata": {
      "needs_background": "light"
     },
     "output_type": "display_data"
    }
   ],
   "source": [
    "# Compare the proportion of data in each cluster for the customer data to the\n",
    "# proportion of data in each cluster for the general population.\n",
    "general_population_proportions = clusters['cluster_label'].value_counts(normalize=True)\n",
    "\n",
    "# Compute cluster proportions for the customer data\n",
    "customer_data_proportions = cust_clusters['cluster_label'].value_counts(normalize=True)\n",
    "\n",
    "# Plot the cluster proportions for the general population\n",
    "plt.figure(figsize=(10, 6))\n",
    "sns.countplot(x='cluster_label', data=clusters)\n",
    "plt.title('Cluster Proportions - General Population')\n",
    "plt.xlabel('Cluster Label')\n",
    "plt.ylabel('Proportion')\n",
    "plt.show()\n",
    "\n",
    "# Plot the cluster proportions for the customer data\n",
    "plt.figure(figsize=(10, 6))\n",
    "sns.countplot(x='cluster_label', data=cust_clusters)\n",
    "plt.title('Cluster Proportions - Customer Data')\n",
    "plt.xlabel('Cluster Label')\n",
    "plt.ylabel('Proportion')\n",
    "plt.show()\n"
   ]
  },
  {
   "cell_type": "code",
   "execution_count": 47,
   "metadata": {},
   "outputs": [
    {
     "name": "stdout",
     "output_type": "stream",
     "text": [
      "Overrepresented Cluster(s): Int64Index([1, 2], dtype='int64')\n"
     ]
    }
   ],
   "source": [
    "cust2['cluster_label'] = cust_clusters\n",
    "subset2['cluster_label'] = clusters\n",
    "cust2_proportions = cust2['cluster_label'].value_counts(normalize=True)\n",
    "subset2_proportions = subset2['cluster_label'].value_counts(normalize=True)\n",
    "\n",
    "aligned_proportions = cust2_proportions.align(subset2_proportions, fill_value=0)\n",
    "\n",
    "overrepresented_clusters = aligned_proportions[0] > aligned_proportions[1]\n",
    "overrepresented_cluster_labels = overrepresented_clusters[overrepresented_clusters].index\n",
    "print(\"Overrepresented Cluster(s):\", overrepresented_cluster_labels)"
   ]
  },
  {
   "cell_type": "code",
   "execution_count": 48,
   "metadata": {},
   "outputs": [
    {
     "name": "stdout",
     "output_type": "stream",
     "text": [
      "Underrepresented Cluster(s): Int64Index([0], dtype='int64')\n"
     ]
    }
   ],
   "source": [
    "# What kinds of people are part of a cluster that is underrepresented in the\n",
    "# customer data compared to the general population?\n",
    "underrepresented_clusters = aligned_proportions[0] < aligned_proportions[1]\n",
    "underrepresented_cluster_labels = underrepresented_clusters[underrepresented_clusters].index\n",
    "\n",
    "print(\"Underrepresented Cluster(s):\", underrepresented_cluster_labels)"
   ]
  },
  {
   "cell_type": "code",
   "execution_count": 57,
   "metadata": {},
   "outputs": [
    {
     "name": "stdout",
     "output_type": "stream",
     "text": [
      "Cluster number: 2\n",
      "AGER_TYP                    0.005162\n",
      "ALTERSKATEGORIE_GROB        0.004970\n",
      "ANREDE_KZ                   0.009913\n",
      "CJT_GESAMTTYP              -0.003617\n",
      "FINANZ_MINIMALIST          -0.017309\n",
      "FINANZ_SPARER               0.001565\n",
      "FINANZ_VORSORGER            0.011293\n",
      "FINANZ_ANLEGER             -0.000731\n",
      "FINANZ_UNAUFFAELLIGER      -0.005134\n",
      "FINANZ_HAUSBAUER            0.018060\n",
      "FINANZTYP                  -0.000432\n",
      "GEBURTSJAHR                -0.005783\n",
      "GFK_URLAUBERTYP            -0.002253\n",
      "GREEN_AVANTGARDE           -0.006617\n",
      "HEALTH_TYP                 -0.003287\n",
      "LP_LEBENSPHASE_FEIN        -0.002816\n",
      "LP_LEBENSPHASE_GROB        -0.000951\n",
      "LP_FAMILIE_FEIN             0.002942\n",
      "LP_FAMILIE_GROB             0.003009\n",
      "LP_STATUS_FEIN             -0.023854\n",
      "LP_STATUS_GROB             -0.022500\n",
      "NATIONALITAET_KZ            0.000098\n",
      "RETOURTYP_BK_S              0.007898\n",
      "SEMIO_SOZ                  -0.009103\n",
      "SEMIO_FAM                  -0.010891\n",
      "SEMIO_REL                  -0.007258\n",
      "SEMIO_MAT                  -0.001516\n",
      "SEMIO_VERT                 -0.011321\n",
      "SEMIO_LUST                  0.007574\n",
      "SEMIO_ERL                   0.010268\n",
      "SEMIO_KULT                 -0.014219\n",
      "SEMIO_RAT                  -0.002740\n",
      "SEMIO_KRIT                  0.009504\n",
      "SEMIO_DOM                   0.012154\n",
      "SEMIO_KAEM                  0.010206\n",
      "SEMIO_PFLICHT              -0.003332\n",
      "SEMIO_TRADV                -0.004832\n",
      "SHOPPER_TYP                 0.003898\n",
      "SOHO_KZ                    -0.004041\n",
      "TITEL_KZ                    0.004980\n",
      "VERS_TYP                    0.003716\n",
      "ZABEOTYP                    0.007403\n",
      "ALTER_HH                   -0.006333\n",
      "ANZ_PERSONEN                0.003860\n",
      "ANZ_TITEL                   0.000890\n",
      "HH_EINKOMMEN_SCORE          0.014388\n",
      "WOHNDAUER_2008              0.008376\n",
      "KONSUMNAEHE                -0.013212\n",
      "ONLINE_AFFINITAET          -0.010314\n",
      "missing_values_count_row    0.000000\n",
      "decade                      0.007603\n",
      "movement                    0.005605\n",
      "cluster_label               0.754374\n",
      "dtype: float64\n"
     ]
    }
   ],
   "source": [
    "def clust_char(clust):\n",
    "    cluster_means = []\n",
    "    cluster_labels = clust['cluster_label'].unique()\n",
    "    for indic in cluster_labels:\n",
    "        cluster_indices = np.where(clust['cluster_label'].values == indic)[0]\n",
    "        cluster_data = subset2.iloc[cluster_indices]\n",
    "        mean_characteristics = cluster_data.mean()\n",
    "        cluster_means.append(mean_characteristics)\n",
    "\n",
    "        print(\"Cluster number:\", indic)\n",
    "        print(mean_characteristics)\n",
    "    cluster_means_df = pd.DataFrame(cluster_means, columns=['Attribute', 'Values'])\n",
    "    cluster_means_df = cluster_means_df.sort_values(by='Values', ascending=False)\n",
    "    return pd.DataFrame(cluster_means_df, cluster_labels)\n",
    "\n",
    "chars = clust_char(cust2[cust2['cluster_label'] == 2])"
   ]
  },
  {
   "cell_type": "code",
   "execution_count": 61,
   "metadata": {},
   "outputs": [
    {
     "name": "stdout",
     "output_type": "stream",
     "text": [
      "Cluster number: 1\n",
      "AGER_TYP                    0.003809\n",
      "ALTERSKATEGORIE_GROB        0.001976\n",
      "ANREDE_KZ                   0.014071\n",
      "CJT_GESAMTTYP              -0.000117\n",
      "FINANZ_MINIMALIST          -0.030470\n",
      "FINANZ_SPARER               0.004189\n",
      "FINANZ_VORSORGER            0.005006\n",
      "FINANZ_ANLEGER              0.002842\n",
      "FINANZ_UNAUFFAELLIGER      -0.007696\n",
      "FINANZ_HAUSBAUER            0.033068\n",
      "FINANZTYP                  -0.000526\n",
      "GEBURTSJAHR                -0.004112\n",
      "GFK_URLAUBERTYP             0.008550\n",
      "GREEN_AVANTGARDE           -0.024246\n",
      "HEALTH_TYP                 -0.001991\n",
      "LP_LEBENSPHASE_FEIN        -0.014850\n",
      "LP_LEBENSPHASE_GROB        -0.013470\n",
      "LP_FAMILIE_FEIN            -0.008879\n",
      "LP_FAMILIE_GROB            -0.007514\n",
      "LP_STATUS_FEIN             -0.040273\n",
      "LP_STATUS_GROB             -0.038112\n",
      "NATIONALITAET_KZ            0.005088\n",
      "RETOURTYP_BK_S              0.007724\n",
      "SEMIO_SOZ                  -0.012481\n",
      "SEMIO_FAM                  -0.007950\n",
      "SEMIO_REL                  -0.007801\n",
      "SEMIO_MAT                   0.003471\n",
      "SEMIO_VERT                 -0.016786\n",
      "SEMIO_LUST                  0.000846\n",
      "SEMIO_ERL                   0.010690\n",
      "SEMIO_KULT                 -0.020978\n",
      "SEMIO_RAT                  -0.000572\n",
      "SEMIO_KRIT                  0.010776\n",
      "SEMIO_DOM                   0.013014\n",
      "SEMIO_KAEM                  0.011704\n",
      "SEMIO_PFLICHT              -0.003698\n",
      "SEMIO_TRADV                -0.005843\n",
      "SHOPPER_TYP                 0.000740\n",
      "SOHO_KZ                    -0.005590\n",
      "TITEL_KZ                   -0.001661\n",
      "VERS_TYP                    0.001515\n",
      "ZABEOTYP                    0.008492\n",
      "ALTER_HH                   -0.011321\n",
      "ANZ_PERSONEN               -0.010665\n",
      "ANZ_TITEL                  -0.002859\n",
      "HH_EINKOMMEN_SCORE          0.032813\n",
      "WOHNDAUER_2008             -0.025156\n",
      "KONSUMNAEHE                -0.022147\n",
      "ONLINE_AFFINITAET          -0.016252\n",
      "missing_values_count_row    0.000000\n",
      "decade                      0.006681\n",
      "movement                    0.023026\n",
      "cluster_label               0.754968\n",
      "dtype: float64\n"
     ]
    }
   ],
   "source": [
    "chars = clust_char(cust2[cust2['cluster_label'] == 1])"
   ]
  },
  {
   "cell_type": "code",
   "execution_count": 62,
   "metadata": {},
   "outputs": [
    {
     "name": "stdout",
     "output_type": "stream",
     "text": [
      "Cluster number: 0\n",
      "AGER_TYP                   -0.028030\n",
      "ALTERSKATEGORIE_GROB        0.006066\n",
      "ANREDE_KZ                  -0.028954\n",
      "CJT_GESAMTTYP               0.010046\n",
      "FINANZ_MINIMALIST           0.009160\n",
      "FINANZ_SPARER               0.029374\n",
      "FINANZ_VORSORGER           -0.028137\n",
      "FINANZ_ANLEGER             -0.003164\n",
      "FINANZ_UNAUFFAELLIGER       0.049551\n",
      "FINANZ_HAUSBAUER           -0.032107\n",
      "FINANZTYP                  -0.032197\n",
      "GEBURTSJAHR                 0.002755\n",
      "GFK_URLAUBERTYP             0.019685\n",
      "GREEN_AVANTGARDE            0.047841\n",
      "HEALTH_TYP                  0.022688\n",
      "LP_LEBENSPHASE_FEIN        -0.060730\n",
      "LP_LEBENSPHASE_GROB        -0.062448\n",
      "LP_FAMILIE_FEIN            -0.058434\n",
      "LP_FAMILIE_GROB            -0.065611\n",
      "LP_STATUS_FEIN              0.029255\n",
      "LP_STATUS_GROB              0.036777\n",
      "NATIONALITAET_KZ           -0.037752\n",
      "RETOURTYP_BK_S             -0.043779\n",
      "SEMIO_SOZ                   0.052138\n",
      "SEMIO_FAM                   0.049989\n",
      "SEMIO_REL                  -0.027033\n",
      "SEMIO_MAT                   0.037296\n",
      "SEMIO_VERT                  0.030542\n",
      "SEMIO_LUST                  0.007085\n",
      "SEMIO_ERL                  -0.000076\n",
      "SEMIO_KULT                  0.013743\n",
      "SEMIO_RAT                  -0.031360\n",
      "SEMIO_KRIT                  0.005954\n",
      "SEMIO_DOM                  -0.033594\n",
      "SEMIO_KAEM                 -0.022568\n",
      "SEMIO_PFLICHT               0.025557\n",
      "SEMIO_TRADV                -0.000468\n",
      "SHOPPER_TYP                 0.031902\n",
      "SOHO_KZ                    -0.031652\n",
      "TITEL_KZ                    0.024419\n",
      "VERS_TYP                   -0.010005\n",
      "ZABEOTYP                    0.007921\n",
      "ALTER_HH                   -0.031650\n",
      "ANZ_PERSONEN               -0.089430\n",
      "ANZ_TITEL                  -0.027959\n",
      "HH_EINKOMMEN_SCORE         -0.008480\n",
      "WOHNDAUER_2008             -0.109902\n",
      "KONSUMNAEHE                 0.018323\n",
      "ONLINE_AFFINITAET          -0.013207\n",
      "missing_values_count_row    0.000000\n",
      "decade                      0.017493\n",
      "movement                   -0.051800\n",
      "cluster_label               0.762431\n",
      "dtype: float64\n"
     ]
    }
   ],
   "source": [
    "chars = clust_char(cust2[cust2['cluster_label'] == 0])"
   ]
  },
  {
   "cell_type": "markdown",
   "metadata": {},
   "source": [
    "### Discussion 3.3: Compare Customer Data to Demographics Data\n",
    "\n",
    "For the third cluster, which was the one with overrepresentation, the three of the highest values indicated that the customers had less affinity for home ownership (FINANZ_HAUSBAUER 0.018060), were lower income (HH_EINKOMMEN_SCORE 0.014388), and had a lower affinity for dominant minded personality typology (SEMIO_DOM 0.012154). Cluster 3 also demonstrated that customers were low income earners through a low score for LP_STATUS_FEIN (-0.023854) and LP_STATUS_GROB(-0.022500), and had a high affinity for little financial interest (FINANZ_MINIMALIST -0.017309).\n",
    "\n",
    "The under represented groups had some similarities between cluster 1 and 2. The highest values indicated that there were more women in the  underrepresetned cluster (Cluster 2 ANREDE_KZ 0.014071), a lower affinity for family minded personality (Cluster 1 SEMIO_FAM 0.049989), a short length of residence (Cluster 2 and 3 WOHNDAUER_2008 -0.109902+), and a lower number of adults in household (Cluster 1 ANZ_PERSONEN -0.089430)."
   ]
  },
  {
   "cell_type": "markdown",
   "metadata": {},
   "source": [
    "> Congratulations on making it this far in the project! Before you finish, make sure to check through the entire notebook from top to bottom to make sure that your analysis follows a logical flow and all of your findings are documented in **Discussion** cells. Once you've checked over all of your work, you should export the notebook as an HTML document to submit for evaluation. You can do this from the menu, navigating to **File -> Download as -> HTML (.html)**. You will submit both that document and this notebook for your project submission."
   ]
  },
  {
   "cell_type": "code",
   "execution_count": null,
   "metadata": {},
   "outputs": [],
   "source": []
  },
  {
   "cell_type": "raw",
   "metadata": {},
   "source": []
  }
 ],
 "metadata": {
  "kernelspec": {
   "display_name": "Python 3",
   "language": "python",
   "name": "python3"
  },
  "language_info": {
   "codemirror_mode": {
    "name": "ipython",
    "version": 3
   },
   "file_extension": ".py",
   "mimetype": "text/x-python",
   "name": "python",
   "nbconvert_exporter": "python",
   "pygments_lexer": "ipython3",
   "version": "3.6.3"
  }
 },
 "nbformat": 4,
 "nbformat_minor": 2
}
